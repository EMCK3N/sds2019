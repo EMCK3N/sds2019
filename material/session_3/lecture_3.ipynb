{
 "cells": [
  {
   "cell_type": "markdown",
   "metadata": {
    "slideshow": {
     "slide_type": "slide"
    }
   },
   "source": [
    "# Session 3:\n",
    "## Strings and APIs\n",
    "Andreas Bjerre-Nielsen"
   ]
  },
  {
   "cell_type": "markdown",
   "metadata": {
    "slideshow": {
     "slide_type": "slide"
    }
   },
   "source": [
    "## Agenda\n",
    "\n",
    "1. [Strings: manipulation, combination etc.](#Strings)\n",
    "2. [Containers - key based](#Containers---key-based)\n",
    "3. [Interacting with the web](#Interacting-with-the-web)\n",
    "4. [Loading and saving files](#Loading-and-saving-files) (input-output, IO)"
   ]
  },
  {
   "cell_type": "markdown",
   "metadata": {
    "slideshow": {
     "slide_type": "slide"
    }
   },
   "source": [
    "# Strings\n"
   ]
  },
  {
   "cell_type": "markdown",
   "metadata": {
    "slideshow": {
     "slide_type": "slide"
    }
   },
   "source": [
    "## Strings recap\n",
    "\n",
    "*What are strings? What do they consist of?*"
   ]
  },
  {
   "cell_type": "markdown",
   "metadata": {
    "slideshow": {
     "slide_type": "fragment"
    }
   },
   "source": [
    "Strings are sequential containers of characters    "
   ]
  },
  {
   "cell_type": "markdown",
   "metadata": {
    "slideshow": {
     "slide_type": "fragment"
    }
   },
   "source": [
    "Python characters can be:\n",
    "- Unicode (`UTF`)  \n",
    "    - Characters from European and Asian language and much more\n",
    "    - 16 bit information\n",
    "    - Python 3 default and newer web, e.g. [møn.dk](https://møn.dk)        \n",
    "-  American Standard Code (`ascii`)\n",
    "    - Characters from English alphabet, numbers, symbols for writing \n",
    "    - 8 bit information\n",
    "    - (Python 2 default, faster)"
   ]
  },
  {
   "cell_type": "markdown",
   "metadata": {
    "slideshow": {
     "slide_type": "slide"
    }
   },
   "source": [
    "## String concatenation\n",
    "\n",
    "*How can I combine strings?*"
   ]
  },
  {
   "cell_type": "markdown",
   "metadata": {
    "slideshow": {
     "slide_type": "fragment"
    }
   },
   "source": [
    "Strings can be added together:"
   ]
  },
  {
   "cell_type": "code",
   "execution_count": 14,
   "metadata": {
    "slideshow": {
     "slide_type": "fragment"
    }
   },
   "outputs": [],
   "source": [
    "s1 = 'police'\n",
    "s2 = 'officer'\n",
    "s1 + ' ' + s2\n",
    "\n",
    "s = ' '\n",
    "\n",
    "my_list = [s1, s2, 'arrests']\n",
    "\n",
    "my_join_string = s.join(my_list)\n",
    "\n",
    "# print(s.join(my_list))"
   ]
  },
  {
   "cell_type": "markdown",
   "metadata": {
    "slideshow": {
     "slide_type": "slide"
    }
   },
   "source": [
    "## String changing case\n",
    "\n",
    "*Can I alter the sentence-case of strings?*"
   ]
  },
  {
   "cell_type": "markdown",
   "metadata": {
    "slideshow": {
     "slide_type": "fragment"
    }
   },
   "source": [
    "- Yes using the string methods `upper`, `lower`, `capitalize`. Example:"
   ]
  },
  {
   "cell_type": "code",
   "execution_count": 9,
   "metadata": {
    "slideshow": {
     "slide_type": "fragment"
    }
   },
   "outputs": [
    {
     "data": {
      "text/plain": [
       "'POLICE'"
      ]
     },
     "execution_count": 9,
     "metadata": {},
     "output_type": "execute_result"
    }
   ],
   "source": [
    "s1.upper()"
   ]
  },
  {
   "cell_type": "markdown",
   "metadata": {
    "slideshow": {
     "slide_type": "slide"
    }
   },
   "source": [
    "## Substrings (1)\n",
    "*How can I check if a substring is contained in the string?*"
   ]
  },
  {
   "cell_type": "markdown",
   "metadata": {
    "slideshow": {
     "slide_type": "fragment"
    }
   },
   "source": [
    "- in/not in"
   ]
  },
  {
   "cell_type": "code",
   "execution_count": 17,
   "metadata": {
    "slideshow": {
     "slide_type": "-"
    }
   },
   "outputs": [
    {
     "data": {
      "text/plain": [
       "'police officer arrests'"
      ]
     },
     "execution_count": 17,
     "metadata": {},
     "output_type": "execute_result"
    }
   ],
   "source": [
    "# 'pol' in s1\n",
    "# [('pol' in my_s) for my_s in my_list]\n",
    "\n",
    "' police ' in  my_join_string"
   ]
  },
  {
   "cell_type": "markdown",
   "metadata": {
    "slideshow": {
     "slide_type": "slide"
    }
   },
   "source": [
    "## Substrings (2)\n",
    "*How can I replace a specific substring?*"
   ]
  },
  {
   "cell_type": "markdown",
   "metadata": {
    "slideshow": {
     "slide_type": "fragment"
    }
   },
   "source": [
    "- replace"
   ]
  },
  {
   "cell_type": "code",
   "execution_count": 18,
   "metadata": {
    "slideshow": {
     "slide_type": "-"
    }
   },
   "outputs": [
    {
     "data": {
      "text/plain": [
       "'malice'"
      ]
     },
     "execution_count": 18,
     "metadata": {},
     "output_type": "execute_result"
    }
   ],
   "source": [
    "s1.replace('po', 'ma')"
   ]
  },
  {
   "cell_type": "markdown",
   "metadata": {
    "slideshow": {
     "slide_type": "slide"
    }
   },
   "source": [
    "## Substrings (3)\n",
    "*Can I also access a string via indices? (in the sequence of characters)*"
   ]
  },
  {
   "cell_type": "markdown",
   "metadata": {
    "slideshow": {
     "slide_type": "fragment"
    }
   },
   "source": [
    "- sequence form - slicing/indexing"
   ]
  },
  {
   "cell_type": "code",
   "execution_count": 26,
   "metadata": {
    "slideshow": {
     "slide_type": "-"
    }
   },
   "outputs": [
    {
     "data": {
      "text/plain": [
       "'police'"
      ]
     },
     "execution_count": 26,
     "metadata": {},
     "output_type": "execute_result"
    }
   ],
   "source": [
    "s1[-6:]"
   ]
  },
  {
   "cell_type": "markdown",
   "metadata": {
    "slideshow": {
     "slide_type": "slide"
    }
   },
   "source": [
    "## Strings quiz\n",
    "*Which Python object do strings remind you of?*"
   ]
  },
  {
   "cell_type": "markdown",
   "metadata": {
    "slideshow": {
     "slide_type": "fragment"
    }
   },
   "source": [
    "- Lists work like strings.\n",
    "  - Concatention (`+`, `*`) works the same way.\n",
    "  - We check if element/character is contained with `in`.\n",
    "  - We can slice and use indices for."
   ]
  },
  {
   "cell_type": "markdown",
   "metadata": {
    "slideshow": {
     "slide_type": "slide"
    }
   },
   "source": [
    "## More about strings \n",
    "\n",
    "There are many things about strings which we have not covered:\n",
    "\n",
    "- Methods for splitting or combining strings etc.\n",
    "- [String formatting](http://www.python-course.eu/python3_formatted_output.php) is exceptionally useful, e.g for making URLs, printing etc. \n"
   ]
  },
  {
   "cell_type": "markdown",
   "metadata": {
    "slideshow": {
     "slide_type": "slide"
    }
   },
   "source": [
    "# Containers - key based"
   ]
  },
  {
   "cell_type": "markdown",
   "metadata": {
    "slideshow": {
     "slide_type": "slide"
    }
   },
   "source": [
    "## Containers recap\n",
    "\n",
    "*What are containers? Which have we seen?*"
   ]
  },
  {
   "cell_type": "markdown",
   "metadata": {
    "slideshow": {
     "slide_type": "-"
    }
   },
   "source": [
    "- \n"
   ]
  },
  {
   "cell_type": "markdown",
   "metadata": {
    "slideshow": {
     "slide_type": "slide"
    }
   },
   "source": [
    "## Dictionaries (1)\n",
    "\n",
    "*How can we make a container which is accessed by arbitrary keys?*"
   ]
  },
  {
   "cell_type": "markdown",
   "metadata": {
    "slideshow": {
     "slide_type": "fragment"
    }
   },
   "source": [
    "By using a dictionary, `dict`. Try executing the code below:"
   ]
  },
  {
   "cell_type": "code",
   "execution_count": 27,
   "metadata": {
    "slideshow": {
     "slide_type": "-"
    }
   },
   "outputs": [
    {
     "name": "stdout",
     "output_type": "stream",
     "text": [
      "Lecturer 1\n"
     ]
    }
   ],
   "source": [
    "my_dict = {'Andreas': 'Lecturer 3',\n",
    "           'David': 'Lecturer 2',\n",
    "           'Snorre': 'Lecturer 1'}\n",
    "\n",
    "print(my_dict['Snorre'])"
   ]
  },
  {
   "cell_type": "markdown",
   "metadata": {
    "slideshow": {
     "slide_type": "slide"
    }
   },
   "source": [
    "## Dictionaries (2)\n",
    "\n",
    "Dictionaries can also be constructed from two associated lists. These are tied together with the `zip` function. Try the following code:"
   ]
  },
  {
   "cell_type": "code",
   "execution_count": 34,
   "metadata": {
    "slideshow": {
     "slide_type": "-"
    }
   },
   "outputs": [
    {
     "data": {
      "text/plain": [
       "{'a': 2, 'b': 3, 'c': 4}"
      ]
     },
     "execution_count": 34,
     "metadata": {},
     "output_type": "execute_result"
    }
   ],
   "source": [
    "keys = ['a', 'b', 'c']\n",
    "values = range(2,5) #[1, 2, 3]\n",
    "\n",
    "key_value_pairs = list(zip(keys, values))\n",
    "key_value_pairs\n",
    "\n",
    "my_dict2 = dict(key_value_pairs)\n",
    "my_dict2\n",
    "# my_dict2['a']"
   ]
  },
  {
   "cell_type": "markdown",
   "metadata": {
    "slideshow": {
     "slide_type": "slide"
    }
   },
   "source": [
    "## Storing containers\n",
    "\n",
    "*Does there exist a file format for easy storage of containers?*"
   ]
  },
  {
   "cell_type": "markdown",
   "metadata": {
    "slideshow": {
     "slide_type": "fragment"
    }
   },
   "source": [
    "Yes, the JSON file format.\n",
    "\n",
    "- Can store lists and dictionaries.\n",
    "- Syntax is the same as Python lists and dictionaries - only add quotation marks. \n",
    "    - Example: `'{\"a\":1,\"b\":1}'`"
   ]
  },
  {
   "cell_type": "markdown",
   "metadata": {
    "slideshow": {
     "slide_type": "slide"
    }
   },
   "source": [
    "## Storing containers (2)\n",
    "\n",
    "*Why is JSON so useful?*"
   ]
  },
  {
   "cell_type": "markdown",
   "metadata": {
    "slideshow": {
     "slide_type": "fragment"
    }
   },
   "source": [
    "- Standard format that looks exactly like Python.\n",
    "- Extreme flexibility:\n",
    "    - Can hold any list or dictionary of any depth which contains only float, int, str.\n",
    "    - Does not work well with other formats, but normally holds any structured data.\n",
    "        - Extension to spatial data: GeoJSON"
   ]
  },
  {
   "cell_type": "markdown",
   "metadata": {
    "slideshow": {
     "slide_type": "slide"
    }
   },
   "source": [
    "# Interacting with the web"
   ]
  },
  {
   "cell_type": "markdown",
   "metadata": {
    "slideshow": {
     "slide_type": "slide"
    }
   },
   "source": [
    "## The internet as data\n",
    "\n",
    "When we surf around the internet we are exposed to a wealth of information."
   ]
  },
  {
   "cell_type": "markdown",
   "metadata": {
    "slideshow": {
     "slide_type": "fragment"
    }
   },
   "source": [
    "- What if we could take this and analyze it?"
   ]
  },
  {
   "cell_type": "markdown",
   "metadata": {
    "slideshow": {
     "slide_type": "fragment"
    }
   },
   "source": [
    "Well, we can. And we will. "
   ]
  },
  {
   "cell_type": "markdown",
   "metadata": {
    "slideshow": {
     "slide_type": "fragment"
    }
   },
   "source": [
    "Examples: Facebook, Twitter, Reddit, Wikipedia, Airbnb etc."
   ]
  },
  {
   "cell_type": "markdown",
   "metadata": {
    "slideshow": {
     "slide_type": "slide"
    }
   },
   "source": [
    "## The internet as data (2)\n",
    "\n",
    "Some times we get lucky. The data is served to us."
   ]
  },
  {
   "cell_type": "markdown",
   "metadata": {
    "slideshow": {
     "slide_type": "fragment"
    }
   },
   "source": [
    "- The data is provided as an `API` service (today)\n",
    "- The data can extracted by queries on underlying tables (Session 8)\n"
   ]
  },
  {
   "cell_type": "markdown",
   "metadata": {
    "slideshow": {
     "slide_type": "fragment"
    }
   },
   "source": [
    "However, often we need to do the work ourselves (Session 8, 10)\n",
    "\n",
    "- We need to explore the structure of the webpage we are interested in\n",
    "- We can extract relevant elements \n",
    "   "
   ]
  },
  {
   "cell_type": "markdown",
   "metadata": {
    "slideshow": {
     "slide_type": "slide"
    }
   },
   "source": [
    "## The web protocol\n",
    "*What is `http` and where is it used?*"
   ]
  },
  {
   "cell_type": "markdown",
   "metadata": {
    "slideshow": {
     "slide_type": "fragment"
    }
   },
   "source": [
    "- `http` stands for HyperText Transfer Protocol.\n",
    "- `http` is good for transmitting the data when a webpage is visited:\n",
    "   - the visiting client sends request for URL or object;\n",
    "   - the server returns relevant data if active."
   ]
  },
  {
   "cell_type": "markdown",
   "metadata": {
    "slideshow": {
     "slide_type": "slide"
    }
   },
   "source": [
    "## The web protocol (2)\n",
    "*Should we care about `http`?*"
   ]
  },
  {
   "cell_type": "markdown",
   "metadata": {
    "slideshow": {
     "slide_type": "fragment"
    }
   },
   "source": [
    "- In this course we ***do not*** care explicitly about `http`. \n",
    "- We use a Python module called `requests` as a `http` interface.\n",
    "- However... Some useful advice - you should **always**:\n",
    "  - use the encrypted version, `https`;\n",
    "  - use authenticated connection, i.e. private login, whenever possible."
   ]
  },
  {
   "cell_type": "markdown",
   "metadata": {
    "slideshow": {
     "slide_type": "slide"
    }
   },
   "source": [
    "## Markup language (1)\n",
    "*What is `html` and where is it used?*"
   ]
  },
  {
   "cell_type": "markdown",
   "metadata": {
    "slideshow": {
     "slide_type": "fragment"
    }
   },
   "source": [
    "- HyperText Markup Lanugage\n",
    "- `html` is a language for communicating how a webpage looks like and behaves.\n",
    "  - That is, `html` contains: content, design, available actions."
   ]
  },
  {
   "cell_type": "markdown",
   "metadata": {
    "slideshow": {
     "slide_type": "slide"
    }
   },
   "source": [
    "## Markup language (2)\n",
    "*Should we care about `html`?*"
   ]
  },
  {
   "cell_type": "markdown",
   "metadata": {
    "slideshow": {
     "slide_type": "fragment"
    }
   },
   "source": [
    "- Yes, `html` is often where the interesting data can be found.\n",
    "- Sometimes, we are lucky, and instead of `html` we get a JSON in return. \n",
    "- Getting data from `html` will the topic of the subsequent scraping sessions (session 8,10)."
   ]
  },
  {
   "cell_type": "markdown",
   "metadata": {
    "slideshow": {
     "slide_type": "slide"
    }
   },
   "source": [
    "## Web APIs (1)\n",
    "*So when do we get lucky, i.e. when is `html` not important?*"
   ]
  },
  {
   "cell_type": "markdown",
   "metadata": {
    "slideshow": {
     "slide_type": "fragment"
    }
   },
   "source": [
    "- When we get a Application Protocol Interface (`API`) on the web\n",
    "- What does this mean?\n",
    "  - We send a query to the Web API \n",
    "  - We get a response from the Web API with data back in return, typically as JSON.\n",
    "  - The API usually provides access to a database or some service"
   ]
  },
  {
   "cell_type": "markdown",
   "metadata": {
    "slideshow": {
     "slide_type": "slide"
    }
   },
   "source": [
    "## Web APIs (2)\n",
    "*So where is the API?*"
   ]
  },
  {
   "cell_type": "markdown",
   "metadata": {
    "slideshow": {
     "slide_type": "fragment"
    }
   },
   "source": [
    "- Usually on separate sub-domain, e.g. `api.github.com`\n",
    "- Sometimes hidden in code (session 8, 10) "
   ]
  },
  {
   "cell_type": "markdown",
   "metadata": {
    "slideshow": {
     "slide_type": "fragment"
    }
   },
   "source": [
    "*So how do we know how the API works?*"
   ]
  },
  {
   "cell_type": "markdown",
   "metadata": {
    "slideshow": {
     "slide_type": "fragment"
    }
   },
   "source": [
    "- There usually is some documentation. E.g. google [\"api github com\"](https://www.google.com/search?q=api+github)"
   ]
  },
  {
   "cell_type": "markdown",
   "metadata": {
    "slideshow": {
     "slide_type": "slide"
    }
   },
   "source": [
    "## Web APIs (3)\n",
    "*So is data free? As in free lunch?*"
   ]
  },
  {
   "cell_type": "markdown",
   "metadata": {
    "slideshow": {
     "slide_type": "fragment"
    }
   },
   "source": [
    "- Most commercial APIs require authentication and have limited free usage\n",
    "  - e.g. Google Maps, various weather services\n",
    "- Some open APIs that are free\n",
    "  - Danish \n",
    "    - Danish statistics (DST)\n",
    "    - Danish weather data (DMI, this fall)\n",
    "    - Danish spatial data (DAWA, danish addresses) \n",
    "  - Global\n",
    "      - OpenStreetMaps, Wikipedia\n",
    "- If no authentication is required the API may be delimited.\n",
    "  - This means only a certain number of requests can be handled per second or per hour from a given IP address."
   ]
  },
  {
   "cell_type": "markdown",
   "metadata": {
    "slideshow": {
     "slide_type": "slide"
    }
   },
   "source": [
    "## Web APIs (4)\n",
    "*So how do make the URLs?*"
   ]
  },
  {
   "cell_type": "markdown",
   "metadata": {
    "slideshow": {
     "slide_type": "fragment"
    }
   },
   "source": [
    "- An `API` query is a URL consisting of:\n",
    "  - Server URL, e.g. `https://api.github.com`\n",
    "  - Endpoint path, `/users/abjer/repos`\n",
    "  - Query parameters, "
   ]
  },
  {
   "cell_type": "markdown",
   "metadata": {
    "slideshow": {
     "slide_type": "slide"
    }
   },
   "source": [
    "## Web APIs in Python (1)\n",
    "*How do make a simple query?*"
   ]
  },
  {
   "cell_type": "code",
   "execution_count": 36,
   "metadata": {
    "slideshow": {
     "slide_type": "fragment"
    }
   },
   "outputs": [
    {
     "name": "stdout",
     "output_type": "stream",
     "text": [
      "https://api.github.com/users/abjer/repos\n"
     ]
    }
   ],
   "source": [
    "server_url = 'https://api.github.com'\n",
    "endpoint_path = '/users/abjer/repos'\n",
    "url = server_url + endpoint_path\n",
    "print(url)"
   ]
  },
  {
   "cell_type": "markdown",
   "metadata": {
    "slideshow": {
     "slide_type": "slide"
    }
   },
   "source": [
    "## Web APIs in Python (2)\n",
    "*How can we send a query with the `requests` module?*"
   ]
  },
  {
   "cell_type": "code",
   "execution_count": 42,
   "metadata": {
    "slideshow": {
     "slide_type": "fragment"
    }
   },
   "outputs": [
    {
     "data": {
      "text/plain": [
       "'[{\"id\":111244798,\"node_id\":\"MDEwOlJlcG9zaXRvcnkxMTEyNDQ3OTg=\",\"name\":\"abjer.github.io\",\"full_name\":\"abjer/abjer.github.io\",\"private\":false,\"owner\":{\"login\":\"abjer\",\"id\":6363844,\"node_id\":\"MDQ6VXNlcjYzNjM4NDQ=\",\"avatar_url\":\"https://avatars3.githubusercontent.com/u/6363844?v=4\",\"gravatar_id\":\"\",\"url\":\"https://api.github.com/users/abjer\",\"html_url\":\"https://github.com/abjer\",\"followers_url\":\"https://api.github.com/users/abjer/followers\",\"following_url\":\"https://api.github.com/users/abjer/following{/other_user}\",\"gists_url\":\"https://api.github.com/users/abjer/gists{/gist_id}\",\"starred_url\":\"https://api.github.com/users/abjer/starred{/owner}{/repo}\",\"subscriptions_url\":\"https://api.github.com/users/abjer/subscriptions\",\"organizations_url\":\"https://api.github.com/users/abjer/orgs\",\"repos_url\":\"https://api.github.com/users/abjer/repos\",\"events_url\":\"https://api.github.com/users/abjer/events{/privacy}\",\"received_events_url\":\"https://api.github.com/users/abjer/received_events\",\"type\":\"User\",\"site_admin\":false},\"html_url\":\"https://github.com/abjer/abjer.github.io\",\"description\":\"Repository for personal webpage https://abjer.github.io\",\"fork\":false,\"url\":\"https://api.github.com/repos/abjer/abjer.github.io\",\"forks_url\":\"https://api.github.com/repos/abjer/abjer.github.io/forks\",\"keys_url\":\"https://api.github.com/repos/abjer/abjer.github.io/keys{/key_id}\",\"collaborators_url\":\"https://api.github.com/repos/abjer/abjer.github.io/collaborators{/collaborator}\",\"teams_url\":\"https://api.github.com/repos/abjer/abjer.github.io/teams\",\"hooks_url\":\"https://api.github.com/repos/abjer/abjer.github.io/hooks\",\"issue_events_url\":\"https://api.github.com/repos/abjer/abjer.github.io/issues/events{/number}\",\"events_url\":\"https://api.github.com/repos/abjer/abjer.github.io/events\",\"assignees_url\":\"https://api.github.com/repos/abjer/abjer.github.io/assignees{/user}\",\"branches_url\":\"https://api.github.com/repos/abjer/abjer.github.io/branches{/branch}\",\"tags_url\":\"https://api.github.com/repos/abjer/abjer.github.io/tags\",\"blobs_url\":\"https://api.github.com/repos/abjer/abjer.github.io/git/blobs{/sha}\",\"git_tags_url\":\"https://api.github.com/repos/abjer/abjer.github.io/git/tags{/sha}\",\"git_refs_url\":\"https://api.github.com/repos/abjer/abjer.github.io/git/refs{/sha}\",\"trees_url\":\"https://api.github.com/repos/abjer/abjer.github.io/git/trees{/sha}\",\"statuses_url\":\"https://api.github.com/repos/abjer/abjer.github.io/statuses/{sha}\",\"languages_url\":\"https://api.github.com/repos/abjer/abjer.github.io/languages\",\"stargazers_url\":\"https://api.github.com/repos/abjer/abjer.github.io/stargazers\",\"contributors_url\":\"https://api.github.com/repos/abjer/abjer.github.io/contributors\",\"subscribers_url\":\"https://api.github.com/repos/abjer/abjer.github.io/subscribers\",\"subscription_url\":\"https://api.github.com/repos/abjer/abjer.github.io/subscription\",\"commits_url\":\"https://api.github.com/repos/abjer/abjer.github.io/commits{/sha}\",\"git_commits_url\":\"https://api.github.com/repos/abjer/abjer.github.io/git/commits{/sha}\",\"comments_url\":\"https://api.github.com/repos/abjer/abjer.github.io/comments{/number}\",\"issue_comment_url\":\"https://api.github.com/repos/abjer/abjer.github.io/issues/comments{/number}\",\"contents_url\":\"https://api.github.com/repos/abjer/abjer.github.io/contents/{+path}\",\"compare_url\":\"https://api.github.com/repos/abjer/abjer.github.io/compare/{base}...{head}\",\"merges_url\":\"https://api.github.com/repos/abjer/abjer.github.io/merges\",\"archive_url\":\"https://api.github.com/repos/abjer/abjer.github.io/{archive_format}{/ref}\",\"downloads_url\":\"https://api.github.com/repos/abjer/abjer.github.io/downloads\",\"issues_url\":\"https://api.github.com/repos/abjer/abjer.github.io/issues{/number}\",\"pulls_url\":\"https://api.github.com/repos/abjer/abjer.github.io/pulls{/number}\",\"milestones_url\":\"https://api.github.com/repos/abjer/abjer.github.io/milestones{/number}\",\"notifications_url\":\"https://api.github.com/repos/abjer/abjer.github.io/notifications{?since,all,participating}\",\"labels_url\":\"https://api.github.com/repos/abjer/abjer.github.io/labels{/name}\",\"releases_url\":\"https://api.github.com/repos/abjer/abjer.github.io/releases{/id}\",\"deployments_url\":\"https://api.github.com/repos/abjer/abjer.github.io/deployments\",\"created_at\":\"2017-11-18T22:34:19Z\",\"updated_at\":\"2019-06-21T21:22:29Z\",\"pushed_at\":\"2019-06-21T21:22:27Z\",\"git_url\":\"git://github.com/abjer/abjer.github.io.git\",\"ssh_url\":\"git@github.com:abjer/abjer.github.io.git\",\"clone_url\":\"https://github.com/abjer/abjer.github.io.git\",\"svn_url\":\"https://github.com/abjer/abjer.github.io\",\"homepage\":null,\"size\":826,\"stargazers_count\":0,\"watchers_count\":0,\"language\":\"HTML\",\"has_issues\":true,\"has_projects\":true,\"has_downloads\":true,\"has_wiki\":true,\"has_pages\":true,\"forks_count\":0,\"mirror_url\":null,\"archived\":false,\"disabled\":false,\"open_issues_count\":0,\"license\":null,\"forks\":0,\"open_issues\":0,\"watchers\":0,\"default_branch\":\"master\"},{\"id\":154833054,\"node_id\":\"MDEwOlJlcG9zaXRvcnkxNTQ4MzMwNTQ=\",\"name\":\"dask\",\"full_name\":\"abjer/dask\",\"private\":false,\"owner\":{\"login\":\"abjer\",\"id\":6363844,\"node_id\":\"MDQ6VXNlcjYzNjM4NDQ=\",\"avatar_url\":\"https://avatars3.githubusercontent.com/u/6363844?v=4\",\"gravatar_id\":\"\",\"url\":\"https://api.github.com/users/abjer\",\"html_url\":\"https://github.com/abjer\",\"followers_url\":\"https://api.github.com/users/abjer/followers\",\"following_url\":\"https://api.github.com/users/abjer/following{/other_user}\",\"gists_url\":\"https://api.github.com/users/abjer/gists{/gist_id}\",\"starred_url\":\"https://api.github.com/users/abjer/starred{/owner}{/repo}\",\"subscriptions_url\":\"https://api.github.com/users/abjer/subscriptions\",\"organizations_url\":\"https://api.github.com/users/abjer/orgs\",\"repos_url\":\"https://api.github.com/users/abjer/repos\",\"events_url\":\"https://api.github.com/users/abjer/events{/privacy}\",\"received_events_url\":\"https://api.github.com/users/abjer/received_events\",\"type\":\"User\",\"site_admin\":false},\"html_url\":\"https://github.com/abjer/dask\",\"description\":\"Parallel computing with task scheduling\",\"fork\":true,\"url\":\"https://api.github.com/repos/abjer/dask\",\"forks_url\":\"https://api.github.com/repos/abjer/dask/forks\",\"keys_url\":\"https://api.github.com/repos/abjer/dask/keys{/key_id}\",\"collaborators_url\":\"https://api.github.com/repos/abjer/dask/collaborators{/collaborator}\",\"teams_url\":\"https://api.github.com/repos/abjer/dask/teams\",\"hooks_url\":\"https://api.github.com/repos/abjer/dask/hooks\",\"issue_events_url\":\"https://api.github.com/repos/abjer/dask/issues/events{/number}\",\"events_url\":\"https://api.github.com/repos/abjer/dask/events\",\"assignees_url\":\"https://api.github.com/repos/abjer/dask/assignees{/user}\",\"branches_url\":\"https://api.github.com/repos/abjer/dask/branches{/branch}\",\"tags_url\":\"https://api.github.com/repos/abjer/dask/tags\",\"blobs_url\":\"https://api.github.com/repos/abjer/dask/git/blobs{/sha}\",\"git_tags_url\":\"https://api.github.com/repos/abjer/dask/git/tags{/sha}\",\"git_refs_url\":\"https://api.github.com/repos/abjer/dask/git/refs{/sha}\",\"trees_url\":\"https://api.github.com/repos/abjer/dask/git/trees{/sha}\",\"statuses_url\":\"https://api.github.com/repos/abjer/dask/statuses/{sha}\",\"languages_url\":\"https://api.github.com/repos/abjer/dask/languages\",\"stargazers_url\":\"https://api.github.com/repos/abjer/dask/stargazers\",\"contributors_url\":\"https://api.github.com/repos/abjer/dask/contributors\",\"subscribers_url\":\"https://api.github.com/repos/abjer/dask/subscribers\",\"subscription_url\":\"https://api.github.com/repos/abjer/dask/subscription\",\"commits_url\":\"https://api.github.com/repos/abjer/dask/commits{/sha}\",\"git_commits_url\":\"https://api.github.com/repos/abjer/dask/git/commits{/sha}\",\"comments_url\":\"https://api.github.com/repos/abjer/dask/comments{/number}\",\"issue_comment_url\":\"https://api.github.com/repos/abjer/dask/issues/comments{/number}\",\"contents_url\":\"https://api.github.com/repos/abjer/dask/contents/{+path}\",\"compare_url\":\"https://api.github.com/repos/abjer/dask/compare/{base}...{head}\",\"merges_url\":\"https://api.github.com/repos/abjer/dask/merges\",\"archive_url\":\"https://api.github.com/repos/abjer/dask/{archive_format}{/ref}\",\"downloads_url\":\"https://api.github.com/repos/abjer/dask/downloads\",\"issues_url\":\"https://api.github.com/repos/abjer/dask/issues{/number}\",\"pulls_url\":\"https://api.github.com/repos/abjer/dask/pulls{/number}\",\"milestones_url\":\"https://api.github.com/repos/abjer/dask/milestones{/number}\",\"notifications_url\":\"https://api.github.com/repos/abjer/dask/notifications{?since,all,participating}\",\"labels_url\":\"https://api.github.com/repos/abjer/dask/labels{/name}\",\"releases_url\":\"https://api.github.com/repos/abjer/dask/releases{/id}\",\"deployments_url\":\"https://api.github.com/repos/abjer/dask/deployments\",\"created_at\":\"2018-10-26T12:42:46Z\",\"updated_at\":\"2018-10-26T12:42:49Z\",\"pushed_at\":\"2018-10-26T12:23:38Z\",\"git_url\":\"git://github.com/abjer/dask.git\",\"ssh_url\":\"git@github.com:abjer/dask.git\",\"clone_url\":\"https://github.com/abjer/dask.git\",\"svn_url\":\"https://github.com/abjer/dask\",\"homepage\":\"https://dask.org\",\"size\":18265,\"stargazers_count\":0,\"watchers_count\":0,\"language\":\"Python\",\"has_issues\":false,\"has_projects\":true,\"has_downloads\":true,\"has_wiki\":true,\"has_pages\":false,\"forks_count\":0,\"mirror_url\":null,\"archived\":false,\"disabled\":false,\"open_issues_count\":0,\"license\":{\"key\":\"other\",\"name\":\"Other\",\"spdx_id\":\"NOASSERTION\",\"url\":null,\"node_id\":\"MDc6TGljZW5zZTA=\"},\"forks\":0,\"open_issues\":0,\"watchers\":0,\"default_branch\":\"master\"},{\"id\":60264492,\"node_id\":\"MDEwOlJlcG9zaXRvcnk2MDI2NDQ5Mg==\",\"name\":\"geopandas\",\"full_name\":\"abjer/geopandas\",\"private\":false,\"owner\":{\"login\":\"abjer\",\"id\":6363844,\"node_id\":\"MDQ6VXNlcjYzNjM4NDQ=\",\"avatar_url\":\"https://avatars3.githubusercontent.com/u/6363844?v=4\",\"gravatar_id\":\"\",\"url\":\"https://api.github.com/users/abjer\",\"html_url\":\"https://github.com/abjer\",\"followers_url\":\"https://api.github.com/users/abjer/followers\",\"following_url\":\"https://api.github.com/users/abjer/following{/other_user}\",\"gists_url\":\"https://api.github.com/users/abjer/gists{/gist_id}\",\"starred_url\":\"https://api.github.com/users/abjer/starred{/owner}{/repo}\",\"subscriptions_url\":\"https://api.github.com/users/abjer/subscriptions\",\"organizations_url\":\"https://api.github.com/users/abjer/orgs\",\"repos_url\":\"https://api.github.com/users/abjer/repos\",\"events_url\":\"https://api.github.com/users/abjer/events{/privacy}\",\"received_events_url\":\"https://api.github.com/users/abjer/received_events\",\"type\":\"User\",\"site_admin\":false},\"html_url\":\"https://github.com/abjer/geopandas\",\"description\":\"Python tools for geographic data\",\"fork\":true,\"url\":\"https://api.github.com/repos/abjer/geopandas\",\"forks_url\":\"https://api.github.com/repos/abjer/geopandas/forks\",\"keys_url\":\"https://api.github.com/repos/abjer/geopandas/keys{/key_id}\",\"collaborators_url\":\"https://api.github.com/repos/abjer/geopandas/collaborators{/collaborator}\",\"teams_url\":\"https://api.github.com/repos/abjer/geopandas/teams\",\"hooks_url\":\"https://api.github.com/repos/abjer/geopandas/hooks\",\"issue_events_url\":\"https://api.github.com/repos/abjer/geopandas/issues/events{/number}\",\"events_url\":\"https://api.github.com/repos/abjer/geopandas/events\",\"assignees_url\":\"https://api.github.com/repos/abjer/geopandas/assignees{/user}\",\"branches_url\":\"https://api.github.com/repos/abjer/geopandas/branches{/branch}\",\"tags_url\":\"https://api.github.com/repos/abjer/geopandas/tags\",\"blobs_url\":\"https://api.github.com/repos/abjer/geopandas/git/blobs{/sha}\",\"git_tags_url\":\"https://api.github.com/repos/abjer/geopandas/git/tags{/sha}\",\"git_refs_url\":\"https://api.github.com/repos/abjer/geopandas/git/refs{/sha}\",\"trees_url\":\"https://api.github.com/repos/abjer/geopandas/git/trees{/sha}\",\"statuses_url\":\"https://api.github.com/repos/abjer/geopandas/statuses/{sha}\",\"languages_url\":\"https://api.github.com/repos/abjer/geopandas/languages\",\"stargazers_url\":\"https://api.github.com/repos/abjer/geopandas/stargazers\",\"contributors_url\":\"https://api.github.com/repos/abjer/geopandas/contributors\",\"subscribers_url\":\"https://api.github.com/repos/abjer/geopandas/subscribers\",\"subscription_url\":\"https://api.github.com/repos/abjer/geopandas/subscription\",\"commits_url\":\"https://api.github.com/repos/abjer/geopandas/commits{/sha}\",\"git_commits_url\":\"https://api.github.com/repos/abjer/geopandas/git/commits{/sha}\",\"comments_url\":\"https://api.github.com/repos/abjer/geopandas/comments{/number}\",\"issue_comment_url\":\"https://api.github.com/repos/abjer/geopandas/issues/comments{/number}\",\"contents_url\":\"https://api.github.com/repos/abjer/geopandas/contents/{+path}\",\"compare_url\":\"https://api.github.com/repos/abjer/geopandas/compare/{base}...{head}\",\"merges_url\":\"https://api.github.com/repos/abjer/geopandas/merges\",\"archive_url\":\"https://api.github.com/repos/abjer/geopandas/{archive_format}{/ref}\",\"downloads_url\":\"https://api.github.com/repos/abjer/geopandas/downloads\",\"issues_url\":\"https://api.github.com/repos/abjer/geopandas/issues{/number}\",\"pulls_url\":\"https://api.github.com/repos/abjer/geopandas/pulls{/number}\",\"milestones_url\":\"https://api.github.com/repos/abjer/geopandas/milestones{/number}\",\"notifications_url\":\"https://api.github.com/repos/abjer/geopandas/notifications{?since,all,participating}\",\"labels_url\":\"https://api.github.com/repos/abjer/geopandas/labels{/name}\",\"releases_url\":\"https://api.github.com/repos/abjer/geopandas/releases{/id}\",\"deployments_url\":\"https://api.github.com/repos/abjer/geopandas/deployments\",\"created_at\":\"2016-06-02T13:02:59Z\",\"updated_at\":\"2016-06-02T13:03:00Z\",\"pushed_at\":\"2016-06-17T13:11:35Z\",\"git_url\":\"git://github.com/abjer/geopandas.git\",\"ssh_url\":\"git@github.com:abjer/geopandas.git\",\"clone_url\":\"https://github.com/abjer/geopandas.git\",\"svn_url\":\"https://github.com/abjer/geopandas\",\"homepage\":\"\",\"size\":3627,\"stargazers_count\":0,\"watchers_count\":0,\"language\":\"Python\",\"has_issues\":false,\"has_projects\":true,\"has_downloads\":true,\"has_wiki\":true,\"has_pages\":false,\"forks_count\":1,\"mirror_url\":null,\"archived\":false,\"disabled\":false,\"open_issues_count\":0,\"license\":{\"key\":\"bsd-3-clause\",\"name\":\"BSD 3-Clause \\\\\"New\\\\\" or \\\\\"Revised\\\\\" License\",\"spdx_id\":\"BSD-3-Clause\",\"url\":\"https://api.github.com/licenses/bsd-3-clause\",\"node_id\":\"MDc6TGljZW5zZTU=\"},\"forks\":1,\"open_issues\":0,\"watchers\":0,\"default_branch\":\"master\"},{\"id\":117970609,\"node_id\":\"MDEwOlJlcG9zaXRvcnkxMTc5NzA2MDk=\",\"name\":\"privacy_spatial\",\"full_name\":\"abjer/privacy_spatial\",\"private\":false,\"owner\":{\"login\":\"abjer\",\"id\":6363844,\"node_id\":\"MDQ6VXNlcjYzNjM4NDQ=\",\"avatar_url\":\"https://avatars3.githubusercontent.com/u/6363844?v=4\",\"gravatar_id\":\"\",\"url\":\"https://api.github.com/users/abjer\",\"html_url\":\"https://github.com/abjer\",\"followers_url\":\"https://api.github.com/users/abjer/followers\",\"following_url\":\"https://api.github.com/users/abjer/following{/other_user}\",\"gists_url\":\"https://api.github.com/users/abjer/gists{/gist_id}\",\"starred_url\":\"https://api.github.com/users/abjer/starred{/owner}{/repo}\",\"subscriptions_url\":\"https://api.github.com/users/abjer/subscriptions\",\"organizations_url\":\"https://api.github.com/users/abjer/orgs\",\"repos_url\":\"https://api.github.com/users/abjer/repos\",\"events_url\":\"https://api.github.com/users/abjer/events{/privacy}\",\"received_events_url\":\"https://api.github.com/users/abjer/received_events\",\"type\":\"User\",\"site_admin\":false},\"html_url\":\"https://github.com/abjer/privacy_spatial\",\"description\":\"This is a repository for code companioning the paper \\\\\"Privacy in spatial data with high resolution and time invariance\\\\\" written by Andreas Bjerre-Nielsen and Mikkel Høst Gandil.\",\"fork\":false,\"url\":\"https://api.github.com/repos/abjer/privacy_spatial\",\"forks_url\":\"https://api.github.com/repos/abjer/privacy_spatial/forks\",\"keys_url\":\"https://api.github.com/repos/abjer/privacy_spatial/keys{/key_id}\",\"collaborators_url\":\"https://api.github.com/repos/abjer/privacy_spatial/collaborators{/collaborator}\",\"teams_url\":\"https://api.github.com/repos/abjer/privacy_spatial/teams\",\"hooks_url\":\"https://api.github.com/repos/abjer/privacy_spatial/hooks\",\"issue_events_url\":\"https://api.github.com/repos/abjer/privacy_spatial/issues/events{/number}\",\"events_url\":\"https://api.github.com/repos/abjer/privacy_spatial/events\",\"assignees_url\":\"https://api.github.com/repos/abjer/privacy_spatial/assignees{/user}\",\"branches_url\":\"https://api.github.com/repos/abjer/privacy_spatial/branches{/branch}\",\"tags_url\":\"https://api.github.com/repos/abjer/privacy_spatial/tags\",\"blobs_url\":\"https://api.github.com/repos/abjer/privacy_spatial/git/blobs{/sha}\",\"git_tags_url\":\"https://api.github.com/repos/abjer/privacy_spatial/git/tags{/sha}\",\"git_refs_url\":\"https://api.github.com/repos/abjer/privacy_spatial/git/refs{/sha}\",\"trees_url\":\"https://api.github.com/repos/abjer/privacy_spatial/git/trees{/sha}\",\"statuses_url\":\"https://api.github.com/repos/abjer/privacy_spatial/statuses/{sha}\",\"languages_url\":\"https://api.github.com/repos/abjer/privacy_spatial/languages\",\"stargazers_url\":\"https://api.github.com/repos/abjer/privacy_spatial/stargazers\",\"contributors_url\":\"https://api.github.com/repos/abjer/privacy_spatial/contributors\",\"subscribers_url\":\"https://api.github.com/repos/abjer/privacy_spatial/subscribers\",\"subscription_url\":\"https://api.github.com/repos/abjer/privacy_spatial/subscription\",\"commits_url\":\"https://api.github.com/repos/abjer/privacy_spatial/commits{/sha}\",\"git_commits_url\":\"https://api.github.com/repos/abjer/privacy_spatial/git/commits{/sha}\",\"comments_url\":\"https://api.github.com/repos/abjer/privacy_spatial/comments{/number}\",\"issue_comment_url\":\"https://api.github.com/repos/abjer/privacy_spatial/issues/comments{/number}\",\"contents_url\":\"https://api.github.com/repos/abjer/privacy_spatial/contents/{+path}\",\"compare_url\":\"https://api.github.com/repos/abjer/privacy_spatial/compare/{base}...{head}\",\"merges_url\":\"https://api.github.com/repos/abjer/privacy_spatial/merges\",\"archive_url\":\"https://api.github.com/repos/abjer/privacy_spatial/{archive_format}{/ref}\",\"downloads_url\":\"https://api.github.com/repos/abjer/privacy_spatial/downloads\",\"issues_url\":\"https://api.github.com/repos/abjer/privacy_spatial/issues{/number}\",\"pulls_url\":\"https://api.github.com/repos/abjer/privacy_spatial/pulls{/number}\",\"milestones_url\":\"https://api.github.com/repos/abjer/privacy_spatial/milestones{/number}\",\"notifications_url\":\"https://api.github.com/repos/abjer/privacy_spatial/notifications{?since,all,participating}\",\"labels_url\":\"https://api.github.com/repos/abjer/privacy_spatial/labels{/name}\",\"releases_url\":\"https://api.github.com/repos/abjer/privacy_spatial/releases{/id}\",\"deployments_url\":\"https://api.github.com/repos/abjer/privacy_spatial/deployments\",\"created_at\":\"2018-01-18T10:52:21Z\",\"updated_at\":\"2018-08-17T12:03:21Z\",\"pushed_at\":\"2018-08-17T12:03:20Z\",\"git_url\":\"git://github.com/abjer/privacy_spatial.git\",\"ssh_url\":\"git@github.com:abjer/privacy_spatial.git\",\"clone_url\":\"https://github.com/abjer/privacy_spatial.git\",\"svn_url\":\"https://github.com/abjer/privacy_spatial\",\"homepage\":null,\"size\":3312,\"stargazers_count\":0,\"watchers_count\":0,\"language\":\"Python\",\"has_issues\":true,\"has_projects\":true,\"has_downloads\":true,\"has_wiki\":true,\"has_pages\":false,\"forks_count\":0,\"mirror_url\":null,\"archived\":false,\"disabled\":false,\"open_issues_count\":0,\"license\":{\"key\":\"mit\",\"name\":\"MIT License\",\"spdx_id\":\"MIT\",\"url\":\"https://api.github.com/licenses/mit\",\"node_id\":\"MDc6TGljZW5zZTEz\"},\"forks\":0,\"open_issues\":0,\"watchers\":0,\"default_branch\":\"master\"},{\"id\":101880227,\"node_id\":\"MDEwOlJlcG9zaXRvcnkxMDE4ODAyMjc=\",\"name\":\"scikit-learn\",\"full_name\":\"abjer/scikit-learn\",\"private\":false,\"owner\":{\"login\":\"abjer\",\"id\":6363844,\"node_id\":\"MDQ6VXNlcjYzNjM4NDQ=\",\"avatar_url\":\"https://avatars3.githubusercontent.com/u/6363844?v=4\",\"gravatar_id\":\"\",\"url\":\"https://api.github.com/users/abjer\",\"html_url\":\"https://github.com/abjer\",\"followers_url\":\"https://api.github.com/users/abjer/followers\",\"following_url\":\"https://api.github.com/users/abjer/following{/other_user}\",\"gists_url\":\"https://api.github.com/users/abjer/gists{/gist_id}\",\"starred_url\":\"https://api.github.com/users/abjer/starred{/owner}{/repo}\",\"subscriptions_url\":\"https://api.github.com/users/abjer/subscriptions\",\"organizations_url\":\"https://api.github.com/users/abjer/orgs\",\"repos_url\":\"https://api.github.com/users/abjer/repos\",\"events_url\":\"https://api.github.com/users/abjer/events{/privacy}\",\"received_events_url\":\"https://api.github.com/users/abjer/received_events\",\"type\":\"User\",\"site_admin\":false},\"html_url\":\"https://github.com/abjer/scikit-learn\",\"description\":\"scikit-learn: machine learning in Python\",\"fork\":true,\"url\":\"https://api.github.com/repos/abjer/scikit-learn\",\"forks_url\":\"https://api.github.com/repos/abjer/scikit-learn/forks\",\"keys_url\":\"https://api.github.com/repos/abjer/scikit-learn/keys{/key_id}\",\"collaborators_url\":\"https://api.github.com/repos/abjer/scikit-learn/collaborators{/collaborator}\",\"teams_url\":\"https://api.github.com/repos/abjer/scikit-learn/teams\",\"hooks_url\":\"https://api.github.com/repos/abjer/scikit-learn/hooks\",\"issue_events_url\":\"https://api.github.com/repos/abjer/scikit-learn/issues/events{/number}\",\"events_url\":\"https://api.github.com/repos/abjer/scikit-learn/events\",\"assignees_url\":\"https://api.github.com/repos/abjer/scikit-learn/assignees{/user}\",\"branches_url\":\"https://api.github.com/repos/abjer/scikit-learn/branches{/branch}\",\"tags_url\":\"https://api.github.com/repos/abjer/scikit-learn/tags\",\"blobs_url\":\"https://api.github.com/repos/abjer/scikit-learn/git/blobs{/sha}\",\"git_tags_url\":\"https://api.github.com/repos/abjer/scikit-learn/git/tags{/sha}\",\"git_refs_url\":\"https://api.github.com/repos/abjer/scikit-learn/git/refs{/sha}\",\"trees_url\":\"https://api.github.com/repos/abjer/scikit-learn/git/trees{/sha}\",\"statuses_url\":\"https://api.github.com/repos/abjer/scikit-learn/statuses/{sha}\",\"languages_url\":\"https://api.github.com/repos/abjer/scikit-learn/languages\",\"stargazers_url\":\"https://api.github.com/repos/abjer/scikit-learn/stargazers\",\"contributors_url\":\"https://api.github.com/repos/abjer/scikit-learn/contributors\",\"subscribers_url\":\"https://api.github.com/repos/abjer/scikit-learn/subscribers\",\"subscription_url\":\"https://api.github.com/repos/abjer/scikit-learn/subscription\",\"commits_url\":\"https://api.github.com/repos/abjer/scikit-learn/commits{/sha}\",\"git_commits_url\":\"https://api.github.com/repos/abjer/scikit-learn/git/commits{/sha}\",\"comments_url\":\"https://api.github.com/repos/abjer/scikit-learn/comments{/number}\",\"issue_comment_url\":\"https://api.github.com/repos/abjer/scikit-learn/issues/comments{/number}\",\"contents_url\":\"https://api.github.com/repos/abjer/scikit-learn/contents/{+path}\",\"compare_url\":\"https://api.github.com/repos/abjer/scikit-learn/compare/{base}...{head}\",\"merges_url\":\"https://api.github.com/repos/abjer/scikit-learn/merges\",\"archive_url\":\"https://api.github.com/repos/abjer/scikit-learn/{archive_format}{/ref}\",\"downloads_url\":\"https://api.github.com/repos/abjer/scikit-learn/downloads\",\"issues_url\":\"https://api.github.com/repos/abjer/scikit-learn/issues{/number}\",\"pulls_url\":\"https://api.github.com/repos/abjer/scikit-learn/pulls{/number}\",\"milestones_url\":\"https://api.github.com/repos/abjer/scikit-learn/milestones{/number}\",\"notifications_url\":\"https://api.github.com/repos/abjer/scikit-learn/notifications{?since,all,participating}\",\"labels_url\":\"https://api.github.com/repos/abjer/scikit-learn/labels{/name}\",\"releases_url\":\"https://api.github.com/repos/abjer/scikit-learn/releases{/id}\",\"deployments_url\":\"https://api.github.com/repos/abjer/scikit-learn/deployments\",\"created_at\":\"2017-08-30T12:45:31Z\",\"updated_at\":\"2017-08-30T12:45:43Z\",\"pushed_at\":\"2017-11-21T08:27:50Z\",\"git_url\":\"git://github.com/abjer/scikit-learn.git\",\"ssh_url\":\"git@github.com:abjer/scikit-learn.git\",\"clone_url\":\"https://github.com/abjer/scikit-learn.git\",\"svn_url\":\"https://github.com/abjer/scikit-learn\",\"homepage\":\"http://scikit-learn.org\",\"size\":86246,\"stargazers_count\":0,\"watchers_count\":0,\"language\":\"Python\",\"has_issues\":false,\"has_projects\":true,\"has_downloads\":true,\"has_wiki\":true,\"has_pages\":false,\"forks_count\":0,\"mirror_url\":null,\"archived\":false,\"disabled\":false,\"open_issues_count\":0,\"license\":{\"key\":\"other\",\"name\":\"Other\",\"spdx_id\":\"NOASSERTION\",\"url\":null,\"node_id\":\"MDc6TGljZW5zZTA=\"},\"forks\":0,\"open_issues\":0,\"watchers\":0,\"default_branch\":\"master\"},{\"id\":138614833,\"node_id\":\"MDEwOlJlcG9zaXRvcnkxMzg2MTQ4MzM=\",\"name\":\"sds\",\"full_name\":\"abjer/sds\",\"private\":false,\"owner\":{\"login\":\"abjer\",\"id\":6363844,\"node_id\":\"MDQ6VXNlcjYzNjM4NDQ=\",\"avatar_url\":\"https://avatars3.githubusercontent.com/u/6363844?v=4\",\"gravatar_id\":\"\",\"url\":\"https://api.github.com/users/abjer\",\"html_url\":\"https://github.com/abjer\",\"followers_url\":\"https://api.github.com/users/abjer/followers\",\"following_url\":\"https://api.github.com/users/abjer/following{/other_user}\",\"gists_url\":\"https://api.github.com/users/abjer/gists{/gist_id}\",\"starred_url\":\"https://api.github.com/users/abjer/starred{/owner}{/repo}\",\"subscriptions_url\":\"https://api.github.com/users/abjer/subscriptions\",\"organizations_url\":\"https://api.github.com/users/abjer/orgs\",\"repos_url\":\"https://api.github.com/users/abjer/repos\",\"events_url\":\"https://api.github.com/users/abjer/events{/privacy}\",\"received_events_url\":\"https://api.github.com/users/abjer/received_events\",\"type\":\"User\",\"site_admin\":false},\"html_url\":\"https://github.com/abjer/sds\",\"description\":\"Social Data Science - a summer school course\",\"fork\":false,\"url\":\"https://api.github.com/repos/abjer/sds\",\"forks_url\":\"https://api.github.com/repos/abjer/sds/forks\",\"keys_url\":\"https://api.github.com/repos/abjer/sds/keys{/key_id}\",\"collaborators_url\":\"https://api.github.com/repos/abjer/sds/collaborators{/collaborator}\",\"teams_url\":\"https://api.github.com/repos/abjer/sds/teams\",\"hooks_url\":\"https://api.github.com/repos/abjer/sds/hooks\",\"issue_events_url\":\"https://api.github.com/repos/abjer/sds/issues/events{/number}\",\"events_url\":\"https://api.github.com/repos/abjer/sds/events\",\"assignees_url\":\"https://api.github.com/repos/abjer/sds/assignees{/user}\",\"branches_url\":\"https://api.github.com/repos/abjer/sds/branches{/branch}\",\"tags_url\":\"https://api.github.com/repos/abjer/sds/tags\",\"blobs_url\":\"https://api.github.com/repos/abjer/sds/git/blobs{/sha}\",\"git_tags_url\":\"https://api.github.com/repos/abjer/sds/git/tags{/sha}\",\"git_refs_url\":\"https://api.github.com/repos/abjer/sds/git/refs{/sha}\",\"trees_url\":\"https://api.github.com/repos/abjer/sds/git/trees{/sha}\",\"statuses_url\":\"https://api.github.com/repos/abjer/sds/statuses/{sha}\",\"languages_url\":\"https://api.github.com/repos/abjer/sds/languages\",\"stargazers_url\":\"https://api.github.com/repos/abjer/sds/stargazers\",\"contributors_url\":\"https://api.github.com/repos/abjer/sds/contributors\",\"subscribers_url\":\"https://api.github.com/repos/abjer/sds/subscribers\",\"subscription_url\":\"https://api.github.com/repos/abjer/sds/subscription\",\"commits_url\":\"https://api.github.com/repos/abjer/sds/commits{/sha}\",\"git_commits_url\":\"https://api.github.com/repos/abjer/sds/git/commits{/sha}\",\"comments_url\":\"https://api.github.com/repos/abjer/sds/comments{/number}\",\"issue_comment_url\":\"https://api.github.com/repos/abjer/sds/issues/comments{/number}\",\"contents_url\":\"https://api.github.com/repos/abjer/sds/contents/{+path}\",\"compare_url\":\"https://api.github.com/repos/abjer/sds/compare/{base}...{head}\",\"merges_url\":\"https://api.github.com/repos/abjer/sds/merges\",\"archive_url\":\"https://api.github.com/repos/abjer/sds/{archive_format}{/ref}\",\"downloads_url\":\"https://api.github.com/repos/abjer/sds/downloads\",\"issues_url\":\"https://api.github.com/repos/abjer/sds/issues{/number}\",\"pulls_url\":\"https://api.github.com/repos/abjer/sds/pulls{/number}\",\"milestones_url\":\"https://api.github.com/repos/abjer/sds/milestones{/number}\",\"notifications_url\":\"https://api.github.com/repos/abjer/sds/notifications{?since,all,participating}\",\"labels_url\":\"https://api.github.com/repos/abjer/sds/labels{/name}\",\"releases_url\":\"https://api.github.com/repos/abjer/sds/releases{/id}\",\"deployments_url\":\"https://api.github.com/repos/abjer/sds/deployments\",\"created_at\":\"2018-06-25T15:34:49Z\",\"updated_at\":\"2019-05-17T13:24:40Z\",\"pushed_at\":\"2018-08-31T15:52:46Z\",\"git_url\":\"git://github.com/abjer/sds.git\",\"ssh_url\":\"git@github.com:abjer/sds.git\",\"clone_url\":\"https://github.com/abjer/sds.git\",\"svn_url\":\"https://github.com/abjer/sds\",\"homepage\":\"https://abjer.github.io/sds\",\"size\":50932,\"stargazers_count\":13,\"watchers_count\":13,\"language\":\"Jupyter Notebook\",\"has_issues\":true,\"has_projects\":true,\"has_downloads\":true,\"has_wiki\":true,\"has_pages\":true,\"forks_count\":31,\"mirror_url\":null,\"archived\":false,\"disabled\":false,\"open_issues_count\":1,\"license\":null,\"forks\":31,\"open_issues\":1,\"watchers\":13,\"default_branch\":\"master\"},{\"id\":96548644,\"node_id\":\"MDEwOlJlcG9zaXRvcnk5NjU0ODY0NA==\",\"name\":\"sds2017\",\"full_name\":\"abjer/sds2017\",\"private\":false,\"owner\":{\"login\":\"abjer\",\"id\":6363844,\"node_id\":\"MDQ6VXNlcjYzNjM4NDQ=\",\"avatar_url\":\"https://avatars3.githubusercontent.com/u/6363844?v=4\",\"gravatar_id\":\"\",\"url\":\"https://api.github.com/users/abjer\",\"html_url\":\"https://github.com/abjer\",\"followers_url\":\"https://api.github.com/users/abjer/followers\",\"following_url\":\"https://api.github.com/users/abjer/following{/other_user}\",\"gists_url\":\"https://api.github.com/users/abjer/gists{/gist_id}\",\"starred_url\":\"https://api.github.com/users/abjer/starred{/owner}{/repo}\",\"subscriptions_url\":\"https://api.github.com/users/abjer/subscriptions\",\"organizations_url\":\"https://api.github.com/users/abjer/orgs\",\"repos_url\":\"https://api.github.com/users/abjer/repos\",\"events_url\":\"https://api.github.com/users/abjer/events{/privacy}\",\"received_events_url\":\"https://api.github.com/users/abjer/received_events\",\"type\":\"User\",\"site_admin\":false},\"html_url\":\"https://github.com/abjer/sds2017\",\"description\":\"Social Data Science summer school course\",\"fork\":true,\"url\":\"https://api.github.com/repos/abjer/sds2017\",\"forks_url\":\"https://api.github.com/repos/abjer/sds2017/forks\",\"keys_url\":\"https://api.github.com/repos/abjer/sds2017/keys{/key_id}\",\"collaborators_url\":\"https://api.github.com/repos/abjer/sds2017/collaborators{/collaborator}\",\"teams_url\":\"https://api.github.com/repos/abjer/sds2017/teams\",\"hooks_url\":\"https://api.github.com/repos/abjer/sds2017/hooks\",\"issue_events_url\":\"https://api.github.com/repos/abjer/sds2017/issues/events{/number}\",\"events_url\":\"https://api.github.com/repos/abjer/sds2017/events\",\"assignees_url\":\"https://api.github.com/repos/abjer/sds2017/assignees{/user}\",\"branches_url\":\"https://api.github.com/repos/abjer/sds2017/branches{/branch}\",\"tags_url\":\"https://api.github.com/repos/abjer/sds2017/tags\",\"blobs_url\":\"https://api.github.com/repos/abjer/sds2017/git/blobs{/sha}\",\"git_tags_url\":\"https://api.github.com/repos/abjer/sds2017/git/tags{/sha}\",\"git_refs_url\":\"https://api.github.com/repos/abjer/sds2017/git/refs{/sha}\",\"trees_url\":\"https://api.github.com/repos/abjer/sds2017/git/trees{/sha}\",\"statuses_url\":\"https://api.github.com/repos/abjer/sds2017/statuses/{sha}\",\"languages_url\":\"https://api.github.com/repos/abjer/sds2017/languages\",\"stargazers_url\":\"https://api.github.com/repos/abjer/sds2017/stargazers\",\"contributors_url\":\"https://api.github.com/repos/abjer/sds2017/contributors\",\"subscribers_url\":\"https://api.github.com/repos/abjer/sds2017/subscribers\",\"subscription_url\":\"https://api.github.com/repos/abjer/sds2017/subscription\",\"commits_url\":\"https://api.github.com/repos/abjer/sds2017/commits{/sha}\",\"git_commits_url\":\"https://api.github.com/repos/abjer/sds2017/git/commits{/sha}\",\"comments_url\":\"https://api.github.com/repos/abjer/sds2017/comments{/number}\",\"issue_comment_url\":\"https://api.github.com/repos/abjer/sds2017/issues/comments{/number}\",\"contents_url\":\"https://api.github.com/repos/abjer/sds2017/contents/{+path}\",\"compare_url\":\"https://api.github.com/repos/abjer/sds2017/compare/{base}...{head}\",\"merges_url\":\"https://api.github.com/repos/abjer/sds2017/merges\",\"archive_url\":\"https://api.github.com/repos/abjer/sds2017/{archive_format}{/ref}\",\"downloads_url\":\"https://api.github.com/repos/abjer/sds2017/downloads\",\"issues_url\":\"https://api.github.com/repos/abjer/sds2017/issues{/number}\",\"pulls_url\":\"https://api.github.com/repos/abjer/sds2017/pulls{/number}\",\"milestones_url\":\"https://api.github.com/repos/abjer/sds2017/milestones{/number}\",\"notifications_url\":\"https://api.github.com/repos/abjer/sds2017/notifications{?since,all,participating}\",\"labels_url\":\"https://api.github.com/repos/abjer/sds2017/labels{/name}\",\"releases_url\":\"https://api.github.com/repos/abjer/sds2017/releases{/id}\",\"deployments_url\":\"https://api.github.com/repos/abjer/sds2017/deployments\",\"created_at\":\"2017-07-07T14:52:37Z\",\"updated_at\":\"2018-07-19T15:04:55Z\",\"pushed_at\":\"2018-07-19T15:04:53Z\",\"git_url\":\"git://github.com/abjer/sds2017.git\",\"ssh_url\":\"git@github.com:abjer/sds2017.git\",\"clone_url\":\"https://github.com/abjer/sds2017.git\",\"svn_url\":\"https://github.com/abjer/sds2017\",\"homepage\":\"https://abjer.github.io/sds2017/\",\"size\":259720,\"stargazers_count\":1,\"watchers_count\":1,\"language\":\"Jupyter Notebook\",\"has_issues\":false,\"has_projects\":true,\"has_downloads\":true,\"has_wiki\":true,\"has_pages\":true,\"forks_count\":4,\"mirror_url\":null,\"archived\":false,\"disabled\":false,\"open_issues_count\":0,\"license\":null,\"forks\":4,\"open_issues\":0,\"watchers\":1,\"default_branch\":\"master\"},{\"id\":193163621,\"node_id\":\"MDEwOlJlcG9zaXRvcnkxOTMxNjM2MjE=\",\"name\":\"sds2019\",\"full_name\":\"abjer/sds2019\",\"private\":false,\"owner\":{\"login\":\"abjer\",\"id\":6363844,\"node_id\":\"MDQ6VXNlcjYzNjM4NDQ=\",\"avatar_url\":\"https://avatars3.githubusercontent.com/u/6363844?v=4\",\"gravatar_id\":\"\",\"url\":\"https://api.github.com/users/abjer\",\"html_url\":\"https://github.com/abjer\",\"followers_url\":\"https://api.github.com/users/abjer/followers\",\"following_url\":\"https://api.github.com/users/abjer/following{/other_user}\",\"gists_url\":\"https://api.github.com/users/abjer/gists{/gist_id}\",\"starred_url\":\"https://api.github.com/users/abjer/starred{/owner}{/repo}\",\"subscriptions_url\":\"https://api.github.com/users/abjer/subscriptions\",\"organizations_url\":\"https://api.github.com/users/abjer/orgs\",\"repos_url\":\"https://api.github.com/users/abjer/repos\",\"events_url\":\"https://api.github.com/users/abjer/events{/privacy}\",\"received_events_url\":\"https://api.github.com/users/abjer/received_events\",\"type\":\"User\",\"site_admin\":false},\"html_url\":\"https://github.com/abjer/sds2019\",\"description\":\"Social Data Science 2019 - a summer school course \",\"fork\":false,\"url\":\"https://api.github.com/repos/abjer/sds2019\",\"forks_url\":\"https://api.github.com/repos/abjer/sds2019/forks\",\"keys_url\":\"https://api.github.com/repos/abjer/sds2019/keys{/key_id}\",\"collaborators_url\":\"https://api.github.com/repos/abjer/sds2019/collaborators{/collaborator}\",\"teams_url\":\"https://api.github.com/repos/abjer/sds2019/teams\",\"hooks_url\":\"https://api.github.com/repos/abjer/sds2019/hooks\",\"issue_events_url\":\"https://api.github.com/repos/abjer/sds2019/issues/events{/number}\",\"events_url\":\"https://api.github.com/repos/abjer/sds2019/events\",\"assignees_url\":\"https://api.github.com/repos/abjer/sds2019/assignees{/user}\",\"branches_url\":\"https://api.github.com/repos/abjer/sds2019/branches{/branch}\",\"tags_url\":\"https://api.github.com/repos/abjer/sds2019/tags\",\"blobs_url\":\"https://api.github.com/repos/abjer/sds2019/git/blobs{/sha}\",\"git_tags_url\":\"https://api.github.com/repos/abjer/sds2019/git/tags{/sha}\",\"git_refs_url\":\"https://api.github.com/repos/abjer/sds2019/git/refs{/sha}\",\"trees_url\":\"https://api.github.com/repos/abjer/sds2019/git/trees{/sha}\",\"statuses_url\":\"https://api.github.com/repos/abjer/sds2019/statuses/{sha}\",\"languages_url\":\"https://api.github.com/repos/abjer/sds2019/languages\",\"stargazers_url\":\"https://api.github.com/repos/abjer/sds2019/stargazers\",\"contributors_url\":\"https://api.github.com/repos/abjer/sds2019/contributors\",\"subscribers_url\":\"https://api.github.com/repos/abjer/sds2019/subscribers\",\"subscription_url\":\"https://api.github.com/repos/abjer/sds2019/subscription\",\"commits_url\":\"https://api.github.com/repos/abjer/sds2019/commits{/sha}\",\"git_commits_url\":\"https://api.github.com/repos/abjer/sds2019/git/commits{/sha}\",\"comments_url\":\"https://api.github.com/repos/abjer/sds2019/comments{/number}\",\"issue_comment_url\":\"https://api.github.com/repos/abjer/sds2019/issues/comments{/number}\",\"contents_url\":\"https://api.github.com/repos/abjer/sds2019/contents/{+path}\",\"compare_url\":\"https://api.github.com/repos/abjer/sds2019/compare/{base}...{head}\",\"merges_url\":\"https://api.github.com/repos/abjer/sds2019/merges\",\"archive_url\":\"https://api.github.com/repos/abjer/sds2019/{archive_format}{/ref}\",\"downloads_url\":\"https://api.github.com/repos/abjer/sds2019/downloads\",\"issues_url\":\"https://api.github.com/repos/abjer/sds2019/issues{/number}\",\"pulls_url\":\"https://api.github.com/repos/abjer/sds2019/pulls{/number}\",\"milestones_url\":\"https://api.github.com/repos/abjer/sds2019/milestones{/number}\",\"notifications_url\":\"https://api.github.com/repos/abjer/sds2019/notifications{?since,all,participating}\",\"labels_url\":\"https://api.github.com/repos/abjer/sds2019/labels{/name}\",\"releases_url\":\"https://api.github.com/repos/abjer/sds2019/releases{/id}\",\"deployments_url\":\"https://api.github.com/repos/abjer/sds2019/deployments\",\"created_at\":\"2019-06-21T21:46:41Z\",\"updated_at\":\"2019-08-13T07:37:38Z\",\"pushed_at\":\"2019-08-13T08:25:47Z\",\"git_url\":\"git://github.com/abjer/sds2019.git\",\"ssh_url\":\"git@github.com:abjer/sds2019.git\",\"clone_url\":\"https://github.com/abjer/sds2019.git\",\"svn_url\":\"https://github.com/abjer/sds2019\",\"homepage\":\"https://abjer.github.io/sds2019\",\"size\":9485,\"stargazers_count\":37,\"watchers_count\":37,\"language\":\"Jupyter Notebook\",\"has_issues\":true,\"has_projects\":true,\"has_downloads\":true,\"has_wiki\":true,\"has_pages\":true,\"forks_count\":88,\"mirror_url\":null,\"archived\":false,\"disabled\":false,\"open_issues_count\":13,\"license\":null,\"forks\":88,\"open_issues\":13,\"watchers\":37,\"default_branch\":\"master\"},{\"id\":162166617,\"node_id\":\"MDEwOlJlcG9zaXRvcnkxNjIxNjY2MTc=\",\"name\":\"tsds\",\"full_name\":\"abjer/tsds\",\"private\":false,\"owner\":{\"login\":\"abjer\",\"id\":6363844,\"node_id\":\"MDQ6VXNlcjYzNjM4NDQ=\",\"avatar_url\":\"https://avatars3.githubusercontent.com/u/6363844?v=4\",\"gravatar_id\":\"\",\"url\":\"https://api.github.com/users/abjer\",\"html_url\":\"https://github.com/abjer\",\"followers_url\":\"https://api.github.com/users/abjer/followers\",\"following_url\":\"https://api.github.com/users/abjer/following{/other_user}\",\"gists_url\":\"https://api.github.com/users/abjer/gists{/gist_id}\",\"starred_url\":\"https://api.github.com/users/abjer/starred{/owner}{/repo}\",\"subscriptions_url\":\"https://api.github.com/users/abjer/subscriptions\",\"organizations_url\":\"https://api.github.com/users/abjer/orgs\",\"repos_url\":\"https://api.github.com/users/abjer/repos\",\"events_url\":\"https://api.github.com/users/abjer/events{/privacy}\",\"received_events_url\":\"https://api.github.com/users/abjer/received_events\",\"type\":\"User\",\"site_admin\":false},\"html_url\":\"https://github.com/abjer/tsds\",\"description\":\"Course page for Topics in Social Data Science @ UPCH: https://kurser.ku.dk/course/a%C3%98kk08371u/2018-2019\",\"fork\":false,\"url\":\"https://api.github.com/repos/abjer/tsds\",\"forks_url\":\"https://api.github.com/repos/abjer/tsds/forks\",\"keys_url\":\"https://api.github.com/repos/abjer/tsds/keys{/key_id}\",\"collaborators_url\":\"https://api.github.com/repos/abjer/tsds/collaborators{/collaborator}\",\"teams_url\":\"https://api.github.com/repos/abjer/tsds/teams\",\"hooks_url\":\"https://api.github.com/repos/abjer/tsds/hooks\",\"issue_events_url\":\"https://api.github.com/repos/abjer/tsds/issues/events{/number}\",\"events_url\":\"https://api.github.com/repos/abjer/tsds/events\",\"assignees_url\":\"https://api.github.com/repos/abjer/tsds/assignees{/user}\",\"branches_url\":\"https://api.github.com/repos/abjer/tsds/branches{/branch}\",\"tags_url\":\"https://api.github.com/repos/abjer/tsds/tags\",\"blobs_url\":\"https://api.github.com/repos/abjer/tsds/git/blobs{/sha}\",\"git_tags_url\":\"https://api.github.com/repos/abjer/tsds/git/tags{/sha}\",\"git_refs_url\":\"https://api.github.com/repos/abjer/tsds/git/refs{/sha}\",\"trees_url\":\"https://api.github.com/repos/abjer/tsds/git/trees{/sha}\",\"statuses_url\":\"https://api.github.com/repos/abjer/tsds/statuses/{sha}\",\"languages_url\":\"https://api.github.com/repos/abjer/tsds/languages\",\"stargazers_url\":\"https://api.github.com/repos/abjer/tsds/stargazers\",\"contributors_url\":\"https://api.github.com/repos/abjer/tsds/contributors\",\"subscribers_url\":\"https://api.github.com/repos/abjer/tsds/subscribers\",\"subscription_url\":\"https://api.github.com/repos/abjer/tsds/subscription\",\"commits_url\":\"https://api.github.com/repos/abjer/tsds/commits{/sha}\",\"git_commits_url\":\"https://api.github.com/repos/abjer/tsds/git/commits{/sha}\",\"comments_url\":\"https://api.github.com/repos/abjer/tsds/comments{/number}\",\"issue_comment_url\":\"https://api.github.com/repos/abjer/tsds/issues/comments{/number}\",\"contents_url\":\"https://api.github.com/repos/abjer/tsds/contents/{+path}\",\"compare_url\":\"https://api.github.com/repos/abjer/tsds/compare/{base}...{head}\",\"merges_url\":\"https://api.github.com/repos/abjer/tsds/merges\",\"archive_url\":\"https://api.github.com/repos/abjer/tsds/{archive_format}{/ref}\",\"downloads_url\":\"https://api.github.com/repos/abjer/tsds/downloads\",\"issues_url\":\"https://api.github.com/repos/abjer/tsds/issues{/number}\",\"pulls_url\":\"https://api.github.com/repos/abjer/tsds/pulls{/number}\",\"milestones_url\":\"https://api.github.com/repos/abjer/tsds/milestones{/number}\",\"notifications_url\":\"https://api.github.com/repos/abjer/tsds/notifications{?since,all,participating}\",\"labels_url\":\"https://api.github.com/repos/abjer/tsds/labels{/name}\",\"releases_url\":\"https://api.github.com/repos/abjer/tsds/releases{/id}\",\"deployments_url\":\"https://api.github.com/repos/abjer/tsds/deployments\",\"created_at\":\"2018-12-17T17:27:55Z\",\"updated_at\":\"2019-05-21T11:08:32Z\",\"pushed_at\":\"2019-05-13T17:30:52Z\",\"git_url\":\"git://github.com/abjer/tsds.git\",\"ssh_url\":\"git@github.com:abjer/tsds.git\",\"clone_url\":\"https://github.com/abjer/tsds.git\",\"svn_url\":\"https://github.com/abjer/tsds\",\"homepage\":null,\"size\":80049,\"stargazers_count\":4,\"watchers_count\":4,\"language\":\"Jupyter Notebook\",\"has_issues\":true,\"has_projects\":true,\"has_downloads\":true,\"has_wiki\":true,\"has_pages\":false,\"forks_count\":10,\"mirror_url\":null,\"archived\":false,\"disabled\":false,\"open_issues_count\":1,\"license\":null,\"forks\":10,\"open_issues\":1,\"watchers\":4,\"default_branch\":\"master\"},{\"id\":111412351,\"node_id\":\"MDEwOlJlcG9zaXRvcnkxMTE0MTIzNTE=\",\"name\":\"tsds2018\",\"full_name\":\"abjer/tsds2018\",\"private\":false,\"owner\":{\"login\":\"abjer\",\"id\":6363844,\"node_id\":\"MDQ6VXNlcjYzNjM4NDQ=\",\"avatar_url\":\"https://avatars3.githubusercontent.com/u/6363844?v=4\",\"gravatar_id\":\"\",\"url\":\"https://api.github.com/users/abjer\",\"html_url\":\"https://github.com/abjer\",\"followers_url\":\"https://api.github.com/users/abjer/followers\",\"following_url\":\"https://api.github.com/users/abjer/following{/other_user}\",\"gists_url\":\"https://api.github.com/users/abjer/gists{/gist_id}\",\"starred_url\":\"https://api.github.com/users/abjer/starred{/owner}{/repo}\",\"subscriptions_url\":\"https://api.github.com/users/abjer/subscriptions\",\"organizations_url\":\"https://api.github.com/users/abjer/orgs\",\"repos_url\":\"https://api.github.com/users/abjer/repos\",\"events_url\":\"https://api.github.com/users/abjer/events{/privacy}\",\"received_events_url\":\"https://api.github.com/users/abjer/received_events\",\"type\":\"User\",\"site_admin\":false},\"html_url\":\"https://github.com/abjer/tsds2018\",\"description\":\"Course page for Topics in Social Data Science @ UPCH: https://kurser.ku.dk/course/a%C3%98kk08371u/2017-2018\",\"fork\":false,\"url\":\"https://api.github.com/repos/abjer/tsds2018\",\"forks_url\":\"https://api.github.com/repos/abjer/tsds2018/forks\",\"keys_url\":\"https://api.github.com/repos/abjer/tsds2018/keys{/key_id}\",\"collaborators_url\":\"https://api.github.com/repos/abjer/tsds2018/collaborators{/collaborator}\",\"teams_url\":\"https://api.github.com/repos/abjer/tsds2018/teams\",\"hooks_url\":\"https://api.github.com/repos/abjer/tsds2018/hooks\",\"issue_events_url\":\"https://api.github.com/repos/abjer/tsds2018/issues/events{/number}\",\"events_url\":\"https://api.github.com/repos/abjer/tsds2018/events\",\"assignees_url\":\"https://api.github.com/repos/abjer/tsds2018/assignees{/user}\",\"branches_url\":\"https://api.github.com/repos/abjer/tsds2018/branches{/branch}\",\"tags_url\":\"https://api.github.com/repos/abjer/tsds2018/tags\",\"blobs_url\":\"https://api.github.com/repos/abjer/tsds2018/git/blobs{/sha}\",\"git_tags_url\":\"https://api.github.com/repos/abjer/tsds2018/git/tags{/sha}\",\"git_refs_url\":\"https://api.github.com/repos/abjer/tsds2018/git/refs{/sha}\",\"trees_url\":\"https://api.github.com/repos/abjer/tsds2018/git/trees{/sha}\",\"statuses_url\":\"https://api.github.com/repos/abjer/tsds2018/statuses/{sha}\",\"languages_url\":\"https://api.github.com/repos/abjer/tsds2018/languages\",\"stargazers_url\":\"https://api.github.com/repos/abjer/tsds2018/stargazers\",\"contributors_url\":\"https://api.github.com/repos/abjer/tsds2018/contributors\",\"subscribers_url\":\"https://api.github.com/repos/abjer/tsds2018/subscribers\",\"subscription_url\":\"https://api.github.com/repos/abjer/tsds2018/subscription\",\"commits_url\":\"https://api.github.com/repos/abjer/tsds2018/commits{/sha}\",\"git_commits_url\":\"https://api.github.com/repos/abjer/tsds2018/git/commits{/sha}\",\"comments_url\":\"https://api.github.com/repos/abjer/tsds2018/comments{/number}\",\"issue_comment_url\":\"https://api.github.com/repos/abjer/tsds2018/issues/comments{/number}\",\"contents_url\":\"https://api.github.com/repos/abjer/tsds2018/contents/{+path}\",\"compare_url\":\"https://api.github.com/repos/abjer/tsds2018/compare/{base}...{head}\",\"merges_url\":\"https://api.github.com/repos/abjer/tsds2018/merges\",\"archive_url\":\"https://api.github.com/repos/abjer/tsds2018/{archive_format}{/ref}\",\"downloads_url\":\"https://api.github.com/repos/abjer/tsds2018/downloads\",\"issues_url\":\"https://api.github.com/repos/abjer/tsds2018/issues{/number}\",\"pulls_url\":\"https://api.github.com/repos/abjer/tsds2018/pulls{/number}\",\"milestones_url\":\"https://api.github.com/repos/abjer/tsds2018/milestones{/number}\",\"notifications_url\":\"https://api.github.com/repos/abjer/tsds2018/notifications{?since,all,participating}\",\"labels_url\":\"https://api.github.com/repos/abjer/tsds2018/labels{/name}\",\"releases_url\":\"https://api.github.com/repos/abjer/tsds2018/releases{/id}\",\"deployments_url\":\"https://api.github.com/repos/abjer/tsds2018/deployments\",\"created_at\":\"2017-11-20T13:13:52Z\",\"updated_at\":\"2018-12-17T17:32:29Z\",\"pushed_at\":\"2018-12-17T17:32:17Z\",\"git_url\":\"git://github.com/abjer/tsds2018.git\",\"ssh_url\":\"git@github.com:abjer/tsds2018.git\",\"clone_url\":\"https://github.com/abjer/tsds2018.git\",\"svn_url\":\"https://github.com/abjer/tsds2018\",\"homepage\":\"\",\"size\":50467,\"stargazers_count\":12,\"watchers_count\":12,\"language\":\"Jupyter Notebook\",\"has_issues\":true,\"has_projects\":true,\"has_downloads\":true,\"has_wiki\":true,\"has_pages\":false,\"forks_count\":20,\"mirror_url\":null,\"archived\":false,\"disabled\":false,\"open_issues_count\":0,\"license\":null,\"forks\":20,\"open_issues\":0,\"watchers\":12,\"default_branch\":\"master\"}]'"
      ]
     },
     "execution_count": 42,
     "metadata": {},
     "output_type": "execute_result"
    }
   ],
   "source": [
    "import requests # import the module requests\n",
    "\n",
    "response = requests.get(url) # submit query with `get` and save response as object\n",
    "\n",
    "response.text"
   ]
  },
  {
   "cell_type": "markdown",
   "metadata": {
    "slideshow": {
     "slide_type": "slide"
    }
   },
   "source": [
    "## Web APIs in Python (3)\n",
    "*How do extract something from the response?*"
   ]
  },
  {
   "cell_type": "markdown",
   "metadata": {},
   "source": [
    "We can get the HTML response."
   ]
  },
  {
   "cell_type": "code",
   "execution_count": 5,
   "metadata": {
    "slideshow": {
     "slide_type": "fragment"
    }
   },
   "outputs": [
    {
     "name": "stdout",
     "output_type": "stream",
     "text": [
      "46919\n",
      "[{\"id\":111244798,\"node_id\":\"MDEwOlJlcG9zaXRvcnkxMTEyNDQ3OTg=\",\"name\":\"abjer.github.io\",\"full_name\":\"abjer/abjer.github.io\",\"private\":false,\"owner\":{\"login\":\"abjer\",\"id\":6363844,\"node_id\":\"MDQ6VXNlcjYzNjM4NDQ=\",\"avatar_url\":\"https://avatars3.githubusercontent.com/u/6363844?v=4\",\"gravatar_id\":\"\",\"url\":\"https://api.github.com/users/abjer\",\"html_url\":\"https://github.com/abjer\",\"followers_url\":\"https://api.github.com/users/abjer/followers\",\"following_url\":\"https://api.github.com/users/abjer/following\n"
     ]
    }
   ],
   "source": [
    "print(len(response.text))\n",
    "print(response.text[:500])"
   ]
  },
  {
   "cell_type": "markdown",
   "metadata": {
    "slideshow": {
     "slide_type": "slide"
    }
   },
   "source": [
    "## Web APIs in Python (4)\n",
    "*Can we get something more meaningful or structured?*"
   ]
  },
  {
   "cell_type": "markdown",
   "metadata": {},
   "source": [
    "Yes, this output of this API can be converted to JSON"
   ]
  },
  {
   "cell_type": "code",
   "execution_count": null,
   "metadata": {
    "slideshow": {
     "slide_type": "fragment"
    }
   },
   "outputs": [],
   "source": [
    "response_json = response.json()\n",
    "response_json[0]"
   ]
  },
  {
   "cell_type": "markdown",
   "metadata": {
    "slideshow": {
     "slide_type": "slide"
    }
   },
   "source": [
    "## Web APIs in Python (5)\n",
    "*And how can we see it even more clearly?*"
   ]
  },
  {
   "cell_type": "code",
   "execution_count": null,
   "metadata": {
    "slideshow": {
     "slide_type": "-"
    }
   },
   "outputs": [],
   "source": [
    "import pprint\n",
    "pprint.pprint(response.json())"
   ]
  },
  {
   "cell_type": "markdown",
   "metadata": {
    "slideshow": {
     "slide_type": "slide"
    }
   },
   "source": [
    "# Loading and saving files\n",
    "\n",
    "How to do input-output (IO) operations in Python "
   ]
  },
  {
   "cell_type": "markdown",
   "metadata": {
    "slideshow": {
     "slide_type": "slide"
    }
   },
   "source": [
    "## Text files\n",
    "*How can we save a string as a text file?*"
   ]
  },
  {
   "cell_type": "code",
   "execution_count": 54,
   "metadata": {
    "slideshow": {
     "slide_type": "fragment"
    }
   },
   "outputs": [],
   "source": [
    "my_str = 'This is important...'\n",
    "my_str2 = 'Written in Python!'\n",
    "\n",
    "with open('my_file.txt', 'a') as f:\n",
    "    f.write(my_str+'\\n'+my_str2)"
   ]
  },
  {
   "cell_type": "markdown",
   "metadata": {
    "slideshow": {
     "slide_type": "fragment"
    }
   },
   "source": [
    "*How can we load a string from a text file?*"
   ]
  },
  {
   "cell_type": "code",
   "execution_count": 55,
   "metadata": {
    "slideshow": {
     "slide_type": "fragment"
    }
   },
   "outputs": [
    {
     "name": "stdout",
     "output_type": "stream",
     "text": [
      "This is important...\n",
      "Written in Python!This is important...\n",
      "Written in Python!\n"
     ]
    }
   ],
   "source": [
    "with open('my_file.txt', 'r') as f:    \n",
    "    my_str_load = f.read()\n",
    "print(my_str_load)"
   ]
  },
  {
   "cell_type": "markdown",
   "metadata": {
    "slideshow": {
     "slide_type": "slide"
    }
   },
   "source": [
    "## JSON files\n",
    "*How can we save a JSON file?*"
   ]
  },
  {
   "cell_type": "markdown",
   "metadata": {
    "slideshow": {
     "slide_type": "fragment"
    }
   },
   "source": [
    "The trick is to convert the JSON file to a string. This can be done with `dumps` in the module `json`:"
   ]
  },
  {
   "cell_type": "code",
   "execution_count": 56,
   "metadata": {
    "slideshow": {
     "slide_type": "-"
    }
   },
   "outputs": [],
   "source": [
    "# import JSON module and convert to string\n",
    "import json\n",
    "response_json_str = json.dumps(response_json)\n",
    "\n",
    "# save string as text file\n",
    "with open('my_file.json', 'w') as f:\n",
    "    f.write(response_json_str)"
   ]
  },
  {
   "cell_type": "markdown",
   "metadata": {
    "slideshow": {
     "slide_type": "fragment"
    }
   },
   "source": [
    "We can convert a string to JSON with `loads`."
   ]
  },
  {
   "cell_type": "markdown",
   "metadata": {
    "slideshow": {
     "slide_type": "slide"
    }
   },
   "source": [
    "## File handling\n",
    "*How can we remove a file?*"
   ]
  },
  {
   "cell_type": "markdown",
   "metadata": {
    "slideshow": {
     "slide_type": "fragment"
    }
   },
   "source": [
    "The module `os` can do a lot of file handling tasks, e.g. removing files:"
   ]
  },
  {
   "cell_type": "code",
   "execution_count": 57,
   "metadata": {
    "slideshow": {
     "slide_type": "-"
    }
   },
   "outputs": [],
   "source": [
    "import os\n",
    "\n",
    "os.remove('my_file.json')"
   ]
  },
  {
   "cell_type": "markdown",
   "metadata": {
    "slideshow": {
     "slide_type": "slide"
    }
   },
   "source": [
    "# The end\n",
    "[Return to agenda](#Agenda)"
   ]
  }
 ],
 "metadata": {
  "celltoolbar": "Slideshow",
  "kernelspec": {
   "display_name": "Python 3",
   "language": "python",
   "name": "python3"
  },
  "language_info": {
   "codemirror_mode": {
    "name": "ipython",
    "version": 3
   },
   "file_extension": ".py",
   "mimetype": "text/x-python",
   "name": "python",
   "nbconvert_exporter": "python",
   "pygments_lexer": "ipython3",
   "version": "3.7.3"
  }
 },
 "nbformat": 4,
 "nbformat_minor": 2
}
