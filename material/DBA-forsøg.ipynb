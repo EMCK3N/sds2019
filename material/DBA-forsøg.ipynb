{
 "cells": [
  {
   "cell_type": "markdown",
   "metadata": {},
   "source": [
    "# web scrape forsøg på dba.dk"
   ]
  },
  {
   "cell_type": "code",
   "execution_count": 1,
   "metadata": {},
   "outputs": [],
   "source": [
    "import requests\n",
    "import pandas as pd\n",
    "from bs4 import BeautifulSoup"
   ]
  },
  {
   "cell_type": "code",
   "execution_count": 2,
   "metadata": {},
   "outputs": [
    {
     "name": "stdout",
     "output_type": "stream",
     "text": [
      "{'User-Agent': 'dba/5.9 iPhone 12.1', 'Accept-Encoding': 'gzip, deflate', 'Accept': '*/*', 'Connection': 'keep-alive', 'DbaApiKey': '93d8cbae-ae89-47bb-a423-08d646555519'}\n",
      "200\n",
      "True\n"
     ]
    }
   ],
   "source": [
    "#http://fas.mide.dk/2011/11/hemmelig-dba-api.html?showComment=1566286904003#c7494136555575979797\n",
    "#https://github.com/simonpacis\n",
    "\n",
    "baseAPI = \"https://api.dba.dk\"\n",
    "url = baseAPI + \"/api/v2/taxonomy/search?q=\" + \"\" + \"&format=json\"\n",
    "#keys: {\"blog: hemmelig api\":\"64424762-f650-450f-909d-08d6d22703fd\",\"simonpacis\": \"087157d7-84d5-4f2b-1d02-08d282f6c857\",\"simonspacis_v2\":\"93d8cbae-ae89-47bb-a423-08d646555519\"}\n",
    "    \n",
    "response = requests.get(url,headers={\"DbaApiKey\":\"93d8cbae-ae89-47bb-a423-08d646555519\",\"User-Agent\":\"dba/5.9 iPhone 12.1\"},)\n",
    "print(response.request.headers)\n",
    "print(response.status_code)\n",
    "print(response.ok)"
   ]
  },
  {
   "cell_type": "code",
   "execution_count": 3,
   "metadata": {},
   "outputs": [
    {
     "data": {
      "text/plain": [
       "<bound method Response.json of <Response [200]>>"
      ]
     },
     "execution_count": 3,
     "metadata": {},
     "output_type": "execute_result"
    }
   ],
   "source": [
    "response.json"
   ]
  },
  {
   "cell_type": "code",
   "execution_count": 4,
   "metadata": {},
   "outputs": [
    {
     "data": {
      "text/plain": [
       "{'allowInSyi': True,\n",
       " 'category': {'hits': 0,\n",
       "  'id': 18,\n",
       "  'localized-name': 'Glas, porcelæn og bestik',\n",
       "  'priority': 0,\n",
       "  'section': {'hits': 0,\n",
       "   'id': 26,\n",
       "   'localized-name': 'Til boligen',\n",
       "   'priority': 0,\n",
       "   'sectiongroup': {'hits': 0,\n",
       "    'id': 2,\n",
       "    'localized-name': 'Bolig & Have',\n",
       "    'priority': 0}}},\n",
       " 'default-ad-type': 0,\n",
       " 'hits': 121745,\n",
       " 'id': 8700,\n",
       " 'localized-name': 'Glas, porcelæn og bestik',\n",
       " 'priority': 0}"
      ]
     },
     "execution_count": 4,
     "metadata": {},
     "output_type": "execute_result"
    }
   ],
   "source": [
    "#response.json().keys() #returns error\n",
    "response.json()[0]"
   ]
  },
  {
   "cell_type": "markdown",
   "metadata": {},
   "source": [
    "<br><br>"
   ]
  },
  {
   "cell_type": "code",
   "execution_count": 5,
   "metadata": {},
   "outputs": [
    {
     "data": {
      "text/html": [
       "<div>\n",
       "<style scoped>\n",
       "    .dataframe tbody tr th:only-of-type {\n",
       "        vertical-align: middle;\n",
       "    }\n",
       "\n",
       "    .dataframe tbody tr th {\n",
       "        vertical-align: top;\n",
       "    }\n",
       "\n",
       "    .dataframe thead th {\n",
       "        text-align: right;\n",
       "    }\n",
       "</style>\n",
       "<table border=\"1\" class=\"dataframe\">\n",
       "  <thead>\n",
       "    <tr style=\"text-align: right;\">\n",
       "      <th></th>\n",
       "      <th>allowInSyi</th>\n",
       "      <th>category</th>\n",
       "      <th>default-ad-type</th>\n",
       "      <th>hits</th>\n",
       "      <th>id</th>\n",
       "      <th>localized-name</th>\n",
       "      <th>priority</th>\n",
       "    </tr>\n",
       "  </thead>\n",
       "  <tbody>\n",
       "    <tr>\n",
       "      <th>0</th>\n",
       "      <td>True</td>\n",
       "      <td>{'section': {'sectiongroup': {'id': 2, 'locali...</td>\n",
       "      <td>0</td>\n",
       "      <td>121745</td>\n",
       "      <td>8700</td>\n",
       "      <td>Glas, porcelæn og bestik</td>\n",
       "      <td>0</td>\n",
       "    </tr>\n",
       "    <tr>\n",
       "      <th>1</th>\n",
       "      <td>True</td>\n",
       "      <td>{'section': {'sectiongroup': {'id': 9, 'locali...</td>\n",
       "      <td>0</td>\n",
       "      <td>111477</td>\n",
       "      <td>36020</td>\n",
       "      <td>Faglitteratur</td>\n",
       "      <td>0</td>\n",
       "    </tr>\n",
       "    <tr>\n",
       "      <th>2</th>\n",
       "      <td>True</td>\n",
       "      <td>{'section': {'sectiongroup': {'id': 2, 'locali...</td>\n",
       "      <td>0</td>\n",
       "      <td>100785</td>\n",
       "      <td>6190</td>\n",
       "      <td>Diverse indretning</td>\n",
       "      <td>0</td>\n",
       "    </tr>\n",
       "    <tr>\n",
       "      <th>3</th>\n",
       "      <td>True</td>\n",
       "      <td>{'section': {'sectiongroup': {'id': 7, 'locali...</td>\n",
       "      <td>0</td>\n",
       "      <td>71531</td>\n",
       "      <td>36400</td>\n",
       "      <td>Diverse samlinger og objekter</td>\n",
       "      <td>0</td>\n",
       "    </tr>\n",
       "    <tr>\n",
       "      <th>4</th>\n",
       "      <td>True</td>\n",
       "      <td>{'section': {'sectiongroup': {'id': 9, 'locali...</td>\n",
       "      <td>0</td>\n",
       "      <td>65103</td>\n",
       "      <td>36030</td>\n",
       "      <td>Skønlitteratur</td>\n",
       "      <td>0</td>\n",
       "    </tr>\n",
       "    <tr>\n",
       "      <th>5</th>\n",
       "      <td>True</td>\n",
       "      <td>{'section': {'sectiongroup': {'id': 8, 'locali...</td>\n",
       "      <td>0</td>\n",
       "      <td>51843</td>\n",
       "      <td>30610</td>\n",
       "      <td>Bluser, toppe og trøjer</td>\n",
       "      <td>0</td>\n",
       "    </tr>\n",
       "    <tr>\n",
       "      <th>6</th>\n",
       "      <td>True</td>\n",
       "      <td>{'section': {'sectiongroup': {'id': 8, 'locali...</td>\n",
       "      <td>0</td>\n",
       "      <td>51340</td>\n",
       "      <td>30660</td>\n",
       "      <td>Sko og støvler</td>\n",
       "      <td>0</td>\n",
       "    </tr>\n",
       "    <tr>\n",
       "      <th>7</th>\n",
       "      <td>True</td>\n",
       "      <td>{'section': {'sectiongroup': {'id': 5, 'locali...</td>\n",
       "      <td>0</td>\n",
       "      <td>44513</td>\n",
       "      <td>21500</td>\n",
       "      <td>DVD-film og Blu-ray</td>\n",
       "      <td>0</td>\n",
       "    </tr>\n",
       "    <tr>\n",
       "      <th>8</th>\n",
       "      <td>True</td>\n",
       "      <td>{'section': {'sectiongroup': {'id': 8, 'locali...</td>\n",
       "      <td>0</td>\n",
       "      <td>38147</td>\n",
       "      <td>30640</td>\n",
       "      <td>Kjoler</td>\n",
       "      <td>0</td>\n",
       "    </tr>\n",
       "    <tr>\n",
       "      <th>9</th>\n",
       "      <td>True</td>\n",
       "      <td>{'section': {'sectiongroup': {'id': 5, 'locali...</td>\n",
       "      <td>0</td>\n",
       "      <td>37293</td>\n",
       "      <td>21620</td>\n",
       "      <td>Lp</td>\n",
       "      <td>0</td>\n",
       "    </tr>\n",
       "    <tr>\n",
       "      <th>10</th>\n",
       "      <td>True</td>\n",
       "      <td>{'section': {'sectiongroup': {'id': 9, 'locali...</td>\n",
       "      <td>0</td>\n",
       "      <td>36605</td>\n",
       "      <td>36060</td>\n",
       "      <td>Andre bøger og blade</td>\n",
       "      <td>0</td>\n",
       "    </tr>\n",
       "    <tr>\n",
       "      <th>11</th>\n",
       "      <td>True</td>\n",
       "      <td>{'section': {'sectiongroup': {'id': 8, 'locali...</td>\n",
       "      <td>0</td>\n",
       "      <td>36218</td>\n",
       "      <td>30800</td>\n",
       "      <td>Smykker</td>\n",
       "      <td>0</td>\n",
       "    </tr>\n",
       "    <tr>\n",
       "      <th>12</th>\n",
       "      <td>True</td>\n",
       "      <td>{'section': {'sectiongroup': {'id': 8, 'locali...</td>\n",
       "      <td>0</td>\n",
       "      <td>35265</td>\n",
       "      <td>30190</td>\n",
       "      <td>Andet legetøj</td>\n",
       "      <td>0</td>\n",
       "    </tr>\n",
       "    <tr>\n",
       "      <th>13</th>\n",
       "      <td>True</td>\n",
       "      <td>{'section': {'sectiongroup': {'id': 2, 'locali...</td>\n",
       "      <td>0</td>\n",
       "      <td>32643</td>\n",
       "      <td>200</td>\n",
       "      <td>Villaer</td>\n",
       "      <td>0</td>\n",
       "    </tr>\n",
       "    <tr>\n",
       "      <th>14</th>\n",
       "      <td>True</td>\n",
       "      <td>{'section': {'sectiongroup': {'id': 9, 'locali...</td>\n",
       "      <td>0</td>\n",
       "      <td>29475</td>\n",
       "      <td>36050</td>\n",
       "      <td>Børnebøger</td>\n",
       "      <td>0</td>\n",
       "    </tr>\n",
       "    <tr>\n",
       "      <th>15</th>\n",
       "      <td>True</td>\n",
       "      <td>{'section': {'sectiongroup': {'id': 8, 'locali...</td>\n",
       "      <td>0</td>\n",
       "      <td>27987</td>\n",
       "      <td>30650</td>\n",
       "      <td>Jakker og frakker</td>\n",
       "      <td>0</td>\n",
       "    </tr>\n",
       "    <tr>\n",
       "      <th>16</th>\n",
       "      <td>True</td>\n",
       "      <td>{'section': {'sectiongroup': {'id': 2, 'locali...</td>\n",
       "      <td>0</td>\n",
       "      <td>27582</td>\n",
       "      <td>8600</td>\n",
       "      <td>Køkkenudstyr og -maskiner</td>\n",
       "      <td>0</td>\n",
       "    </tr>\n",
       "    <tr>\n",
       "      <th>17</th>\n",
       "      <td>True</td>\n",
       "      <td>{'section': {'sectiongroup': {'id': 8, 'locali...</td>\n",
       "      <td>0</td>\n",
       "      <td>27304</td>\n",
       "      <td>30040</td>\n",
       "      <td>Andet udstyr til børn og babyer</td>\n",
       "      <td>0</td>\n",
       "    </tr>\n",
       "    <tr>\n",
       "      <th>18</th>\n",
       "      <td>True</td>\n",
       "      <td>{'section': {'sectiongroup': {'id': 8, 'locali...</td>\n",
       "      <td>0</td>\n",
       "      <td>26551</td>\n",
       "      <td>30440</td>\n",
       "      <td>Børnesko og -støvler</td>\n",
       "      <td>0</td>\n",
       "    </tr>\n",
       "    <tr>\n",
       "      <th>19</th>\n",
       "      <td>True</td>\n",
       "      <td>{'section': {'sectiongroup': {'id': 8, 'locali...</td>\n",
       "      <td>0</td>\n",
       "      <td>25624</td>\n",
       "      <td>30670</td>\n",
       "      <td>Andet dametøj og tilbehør</td>\n",
       "      <td>0</td>\n",
       "    </tr>\n",
       "  </tbody>\n",
       "</table>\n",
       "</div>"
      ],
      "text/plain": [
       "    allowInSyi                                           category  \\\n",
       "0         True  {'section': {'sectiongroup': {'id': 2, 'locali...   \n",
       "1         True  {'section': {'sectiongroup': {'id': 9, 'locali...   \n",
       "2         True  {'section': {'sectiongroup': {'id': 2, 'locali...   \n",
       "3         True  {'section': {'sectiongroup': {'id': 7, 'locali...   \n",
       "4         True  {'section': {'sectiongroup': {'id': 9, 'locali...   \n",
       "5         True  {'section': {'sectiongroup': {'id': 8, 'locali...   \n",
       "6         True  {'section': {'sectiongroup': {'id': 8, 'locali...   \n",
       "7         True  {'section': {'sectiongroup': {'id': 5, 'locali...   \n",
       "8         True  {'section': {'sectiongroup': {'id': 8, 'locali...   \n",
       "9         True  {'section': {'sectiongroup': {'id': 5, 'locali...   \n",
       "10        True  {'section': {'sectiongroup': {'id': 9, 'locali...   \n",
       "11        True  {'section': {'sectiongroup': {'id': 8, 'locali...   \n",
       "12        True  {'section': {'sectiongroup': {'id': 8, 'locali...   \n",
       "13        True  {'section': {'sectiongroup': {'id': 2, 'locali...   \n",
       "14        True  {'section': {'sectiongroup': {'id': 9, 'locali...   \n",
       "15        True  {'section': {'sectiongroup': {'id': 8, 'locali...   \n",
       "16        True  {'section': {'sectiongroup': {'id': 2, 'locali...   \n",
       "17        True  {'section': {'sectiongroup': {'id': 8, 'locali...   \n",
       "18        True  {'section': {'sectiongroup': {'id': 8, 'locali...   \n",
       "19        True  {'section': {'sectiongroup': {'id': 8, 'locali...   \n",
       "\n",
       "    default-ad-type    hits     id                   localized-name  priority  \n",
       "0                 0  121745   8700         Glas, porcelæn og bestik         0  \n",
       "1                 0  111477  36020                    Faglitteratur         0  \n",
       "2                 0  100785   6190               Diverse indretning         0  \n",
       "3                 0   71531  36400    Diverse samlinger og objekter         0  \n",
       "4                 0   65103  36030                   Skønlitteratur         0  \n",
       "5                 0   51843  30610          Bluser, toppe og trøjer         0  \n",
       "6                 0   51340  30660                   Sko og støvler         0  \n",
       "7                 0   44513  21500              DVD-film og Blu-ray         0  \n",
       "8                 0   38147  30640                           Kjoler         0  \n",
       "9                 0   37293  21620                               Lp         0  \n",
       "10                0   36605  36060             Andre bøger og blade         0  \n",
       "11                0   36218  30800                          Smykker         0  \n",
       "12                0   35265  30190                    Andet legetøj         0  \n",
       "13                0   32643    200                          Villaer         0  \n",
       "14                0   29475  36050                       Børnebøger         0  \n",
       "15                0   27987  30650                Jakker og frakker         0  \n",
       "16                0   27582   8600        Køkkenudstyr og -maskiner         0  \n",
       "17                0   27304  30040  Andet udstyr til børn og babyer         0  \n",
       "18                0   26551  30440             Børnesko og -støvler         0  \n",
       "19                0   25624  30670        Andet dametøj og tilbehør         0  "
      ]
     },
     "execution_count": 5,
     "metadata": {},
     "output_type": "execute_result"
    }
   ],
   "source": [
    "dba_id = pd.DataFrame(response.json())\n",
    "dba_id.head(20)"
   ]
  },
  {
   "cell_type": "code",
   "execution_count": 6,
   "metadata": {},
   "outputs": [
    {
     "ename": "TypeError",
     "evalue": "string indices must be integers",
     "output_type": "error",
     "traceback": [
      "\u001b[0;31m---------------------------------------------------------------------------\u001b[0m",
      "\u001b[0;31mTypeError\u001b[0m                                 Traceback (most recent call last)",
      "\u001b[0;32m<ipython-input-6-6f45b13585d1>\u001b[0m in \u001b[0;36m<module>\u001b[0;34m()\u001b[0m\n\u001b[1;32m      6\u001b[0m \u001b[0;31m#dba_test_2['category']= dba_test_2[\"category\"].str.split(\":\", n = 10, expand = True)\u001b[0m\u001b[0;34m\u001b[0m\u001b[0;34m\u001b[0m\u001b[0;34m\u001b[0m\u001b[0m\n\u001b[1;32m      7\u001b[0m \u001b[0;34m\u001b[0m\u001b[0m\n\u001b[0;32m----> 8\u001b[0;31m \u001b[0mprint\u001b[0m\u001b[0;34m(\u001b[0m\u001b[0mdba_test_2\u001b[0m\u001b[0;34m.\u001b[0m\u001b[0mto_string\u001b[0m\u001b[0;34m(\u001b[0m\u001b[0;34m)\u001b[0m\u001b[0;34m[\u001b[0m\u001b[0;34m'category'\u001b[0m\u001b[0;34m]\u001b[0m\u001b[0;34m)\u001b[0m\u001b[0;34m\u001b[0m\u001b[0;34m\u001b[0m\u001b[0m\n\u001b[0m",
      "\u001b[0;31mTypeError\u001b[0m: string indices must be integers"
     ]
    }
   ],
   "source": [
    "dba_test = dba_id.copy()\n",
    "len(dba_test)\n",
    "dba_test_2 = dba_test.drop(['allowInSyi', 'default-ad-type', 'priority'], axis=1)\n",
    "\n",
    "\n",
    "#dba_test_2['category']= dba_test_2[\"category\"].str.split(\":\", n = 10, expand = True)\n",
    "\n",
    "print(dba_test_2.to_string()['category'])"
   ]
  },
  {
   "cell_type": "markdown",
   "metadata": {},
   "source": [
    "<br><br><br>\n",
    "## Scrape en kategori\n",
    "404: page not found\n",
    "403: page forbidden \n",
    "400: not established"
   ]
  },
  {
   "cell_type": "code",
   "execution_count": null,
   "metadata": {},
   "outputs": [],
   "source": [
    "baseAPI = \"https://api.dba.dk\"\n",
    "CategoryId = str(36020)\n",
    "url = baseAPI + \"/api/v2/search/latest/category/\" + CategoryId\n",
    "\n",
    "response = requests.get(url,headers={\"DbaApiKey\":\"93d8cbae-ae89-47bb-a423-08d646555519\",\"User-Agent\":\"dba/5.9 iPhone 12.1\"})\n",
    "response.request.headers\n",
    "response.status_code"
   ]
  },
  {
   "cell_type": "markdown",
   "metadata": {},
   "source": [
    "<br> <br> <br>"
   ]
  },
  {
   "cell_type": "code",
   "execution_count": null,
   "metadata": {},
   "outputs": [],
   "source": [
    "info = requests.get(\"https://api.dba.dk/api/v2/listing/%s/secondaryinfo\" %\n",
    "                          listing_id, headers=headers, verify=verify).json()"
   ]
  },
  {
   "cell_type": "code",
   "execution_count": null,
   "metadata": {},
   "outputs": [],
   "source": [
    "import pandas as pd \n",
    "url = \"https://www.dba.dk/cykler/cykler-og-cykelanhaengere/\"\n",
    "dfs = pd.read_html(url,attrs={'class':'search-result'})"
   ]
  },
  {
   "cell_type": "code",
   "execution_count": null,
   "metadata": {},
   "outputs": [],
   "source": [
    "import requests\n",
    "import lxml.html as lh\n",
    "import pandas as pd\n",
    "\n",
    "url = \"https://www.dba.dk/cykler/cykler-og-cykelanhaengere/\"\n",
    "\n",
    "#Create a handle, page, to handle the contents of the website\n",
    "page = requests.get(url,headers={\"DbaApiKey\":\"93d8cbae-ae89-47bb-a423-08d646555519\",\"User-Agent\":\"dba/5.9 iPhone 12.1\"},)\n",
    "\n",
    "#Store the contents of the website under doc\n",
    "doc = lh.fromstring(page.content)\n",
    "\n",
    "#Parse data that are stored between <tr>..</tr> of HTML\n",
    "tr_elements = doc.xpath('//li')"
   ]
  },
  {
   "cell_type": "code",
   "execution_count": null,
   "metadata": {},
   "outputs": [],
   "source": [
    "url = \"https://www.dba.dk/soeg\"\n",
    "from bs4 import BeautifulSoup\n",
    "import requests\n",
    "import pandas as pd\n",
    "import re\n",
    "import json\n",
    "\n",
    "#data = requests.get(url)\n",
    "data = requests.get(url,headers={\"DbaApiKey\":\"93d8cbae-ae89-47bb-a423-08d646555519\",\"User-Agent\":\"dba/5.9 iPhone 12.1\"},)\n",
    "all_links = re.findall(r'href=[\\'\"]?([^\\'\" >]+)', data.text)\n",
    "#soup = BeautifulSoup(data.text)\n",
    "len(all_links)"
   ]
  },
  {
   "cell_type": "code",
   "execution_count": null,
   "metadata": {},
   "outputs": [],
   "source": [
    "links = []\n",
    "\n",
    "for x in range(151):\n",
    "    if \"id-\" in all_links[x]:\n",
    "        links.append(all_links[x])\n",
    "links"
   ]
  },
  {
   "cell_type": "code",
   "execution_count": null,
   "metadata": {},
   "outputs": [],
   "source": [
    "url = \"https://www.dba.dk/herrecykel-andet-maerke/id-1058447066\"\n",
    "data = requests.get(url,headers={\"DbaApiKey\":\"93d8cbae-ae89-47bb-a423-08d646555519\",\"User-Agent\":\"dba/5.9 iPhone 12.1\"})\n",
    "soup = BeautifulSoup(data.text)"
   ]
  },
  {
   "cell_type": "code",
   "execution_count": null,
   "metadata": {},
   "outputs": [],
   "source": [
    "from bs4 import BeautifulSoup\n",
    "url=\"https://www.dba.dk/drengecykel-classic-cykel/id-1057205328/\"\n",
    "response = requests.get(url,headers={\"DbaApiKey\":\"93d8cbae-ae89-47bb-a423-08d646555519\",\"User-Agent\":\"dba/5.9 iPhone 12.1\"},)\n",
    "soup = BeautifulSoup(data.text)\n",
    "soup"
   ]
  },
  {
   "cell_type": "code",
   "execution_count": null,
   "metadata": {},
   "outputs": [],
   "source": []
  },
  {
   "cell_type": "code",
   "execution_count": null,
   "metadata": {},
   "outputs": [],
   "source": []
  }
 ],
 "metadata": {
  "kernelspec": {
   "display_name": "Python 3",
   "language": "python",
   "name": "python3"
  },
  "language_info": {
   "codemirror_mode": {
    "name": "ipython",
    "version": 3
   },
   "file_extension": ".py",
   "mimetype": "text/x-python",
   "name": "python",
   "nbconvert_exporter": "python",
   "pygments_lexer": "ipython3",
   "version": "3.7.3"
  }
 },
 "nbformat": 4,
 "nbformat_minor": 2
}
