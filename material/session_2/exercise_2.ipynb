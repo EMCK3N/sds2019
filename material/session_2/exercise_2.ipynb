{
 "cells": [
  {
   "cell_type": "markdown",
   "metadata": {},
   "source": [
    "# Exercise set 2: My first Markdown\n",
    "*Afternoon, August 12, 2019*   \n",
    "\n",
    "Markdown is easy to access and very flexible. This page contains some basic features in Markdown, which will get you a long way.\n",
    "\n",
    "If you are having problems during the exercise go Google or try this [Markdown Cheatsheet](https://github.com/adam-p/markdown-here/wiki/Markdown-Cheatsheet)\n"
   ]
  },
  {
   "cell_type": "markdown",
   "metadata": {},
   "source": [
    "### Change to Markdown\n",
    "> **Ex. 2.1**: The cell below is marked as Code. Change it to a Markdown cell, and run it to see how it looks."
   ]
  },
  {
   "cell_type": "markdown",
   "metadata": {},
   "source": [
    "## Headings and preview\n",
    "Make headings by using the hash #. One for first heading, two for second ect.\n",
    "\n",
    "To see how your output will look, run the cell `Ctrl + Enter`"
   ]
  },
  {
   "cell_type": "markdown",
   "metadata": {},
   "source": [
    "### Make lists\n",
    "> **Ex. 2.2**: Make two lists. The first should be numbered. The second should be unnumbered and contain at least one sublevel. "
   ]
  },
  {
   "cell_type": "markdown",
   "metadata": {},
   "source": [
    "Answer Ex.2.2 HERE: \n",
    "\n",
    "Ordered list uses numbers:\n",
    "1. First item\n",
    "2. Another item\n",
    "3. Yet another item\n",
    "4. Final item\n",
    "\n",
    "Unordered list can use asterisks:\n",
    "* First item\n",
    "- Second item\n",
    "+ Last item \n",
    "    + Unordered sub-list. "
   ]
  },
  {
   "cell_type": "markdown",
   "metadata": {},
   "source": [
    "### Bold, italics, indented text\n",
    "\n",
    "> **Ex. 2.3**: Write some text that has both *italics*, **bold**, and `quoted` text. Also make a blockquoted using `>`"
   ]
  },
  {
   "cell_type": "markdown",
   "metadata": {},
   "source": [
    "Answer Ex.2.3 HERE:\n",
    "\n",
    "Strong emphasis, aka **bold**, with asterisks or __underscores__. Also i can do `quoted` text and blockqoutes\n"
   ]
  },
  {
   "cell_type": "markdown",
   "metadata": {},
   "source": [
    "> Blockquotes are very handy to show text that needs to be emphasized. \n",
    "> This line is part of the same quote."
   ]
  },
  {
   "cell_type": "markdown",
   "metadata": {},
   "source": [
    "### Links and images\n",
    "> **Ex.2.4**: Insert this link (http://www.nyan.cat/), with the text \"Relaxing cat video\".    \n",
    "Insert this image (http://m.memegen.com/a0t2cx.jpg)"
   ]
  },
  {
   "cell_type": "markdown",
   "metadata": {},
   "source": [
    "Answer Ex.2.4 HERE: \n",
    "[Relaxing cat video](http://www.nyan.cat/)\n",
    "\n",
    "\n",
    "Inserting af picture of a cat:\n",
    "\n",
    "\n",
    "![alt text](https://scontent-arn2-1.xx.fbcdn.net/v/t1.0-9/30729430_365360420615798_6892932080649371648_n.jpg?_nc_cat=102&_nc_oc=AQk9pwlhgEXaQTKxRfh0UrW4ZohwInqoGVleZRsir-T29JC_CeyTweJcYaD8zi_sbdo&_nc_ht=scontent-arn2-1.xx&oh=aebf705a3b60104a2841a651bfc2c17f&oe=5DD487F4 \"Picture of a cat\")"
   ]
  },
  {
   "cell_type": "markdown",
   "metadata": {},
   "source": [
    "### Bonus: Make a table\n",
    "> **Ex. 2.5 (bonus)**: Make a table containing Food = Eggs, Bacon, Bread and Price = 4.95 kr., 22.50 kr. and 15.00 kr. "
   ]
  },
  {
   "cell_type": "markdown",
   "metadata": {},
   "source": [
    "Answer Ex.2.5 HERE:\n",
    "\n",
    "| Food          | Price        |\n",
    "| :------------ |-------------:|\n",
    "| Eggs          | 4.95   kr.   |\n",
    "| Bacon         | 22.50  kr.   |\n",
    "| Bread         | 15.00  kr.   |"
   ]
  },
  {
   "cell_type": "markdown",
   "metadata": {},
   "source": [
    "### Bonus: Make math\n",
    "\n",
    "Use Markdown to write up the OLS-estimator:\n",
    "\n",
    "![](https://wikimedia.org/api/rest_v1/media/math/render/svg/46cf247a57b181c36165a0b6ae5ede6bdc1a24a3)\n",
    "\n",
    "*Hint: Start and end with `$`*, and try your way forward"
   ]
  },
  {
   "cell_type": "markdown",
   "metadata": {},
   "source": [
    "Answer Ex.2.6 HERE:\n",
    "\n",
    "$\\hat\\beta = (X^T X)^{-1} X^T y.$"
   ]
  }
 ],
 "metadata": {
  "kernelspec": {
   "display_name": "Python 3",
   "language": "python",
   "name": "python3"
  },
  "language_info": {
   "codemirror_mode": {
    "name": "ipython",
    "version": 3
   },
   "file_extension": ".py",
   "mimetype": "text/x-python",
   "name": "python",
   "nbconvert_exporter": "python",
   "pygments_lexer": "ipython3",
   "version": "3.7.3"
  }
 },
 "nbformat": 4,
 "nbformat_minor": 2
}
